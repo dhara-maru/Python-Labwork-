{
 "cells": [
  {
   "cell_type": "code",
   "execution_count": 6,
   "id": "5f2309b6-c819-4656-a50c-245236d01b2e",
   "metadata": {},
   "outputs": [
    {
     "name": "stdout",
     "output_type": "stream",
     "text": [
      "Hello World\n"
     ]
    }
   ],
   "source": [
    "print(\"Hello World\")"
   ]
  },
  {
   "cell_type": "code",
   "execution_count": 7,
   "id": "5da3c32e-458b-4b9e-bf19-a0e890568965",
   "metadata": {},
   "outputs": [
    {
     "name": "stdout",
     "output_type": "stream",
     "text": [
      "Raval Street \n",
      " Mahendra Para Road \n",
      " Morbi - 363641\n",
      "Raval Street\n",
      "Mahendrapara road\n",
      "Morbi - 363641\n"
     ]
    }
   ],
   "source": [
    "print(\"Raval Street \\n Mahendra Para Road \\n Morbi - 363641\")\n",
    "print(\"Raval Street\")\n",
    "print(\"Mahendrapara road\")\n",
    "print(\"Morbi - 363641\")"
   ]
  },
  {
   "cell_type": "code",
   "execution_count": 11,
   "id": "6c6fce8b-ba7b-460f-b5d9-dcad4f89dfea",
   "metadata": {},
   "outputs": [
    {
     "name": "stdout",
     "output_type": "stream",
     "text": [
      "Answer :  30\n"
     ]
    }
   ],
   "source": [
    "a=10;\n",
    "b=20;\n",
    "c= a+b;\n",
    "print(\"Answer : \",c)"
   ]
  },
  {
   "cell_type": "code",
   "execution_count": 12,
   "id": "eae3e95f-adb0-4690-81ba-59ff013f9d32",
   "metadata": {},
   "outputs": [
    {
     "name": "stdout",
     "output_type": "stream",
     "text": [
      "Average is  15.0\n"
     ]
    }
   ],
   "source": [
    "a=10;\n",
    "b=20;\n",
    "sum = a+b;\n",
    "avg = sum/2;\n",
    "print(\"Average is \",avg)"
   ]
  },
  {
   "cell_type": "code",
   "execution_count": 15,
   "id": "d72a8ec5-3fd4-4bcd-b2c6-659a57a6a1b9",
   "metadata": {},
   "outputs": [
    {
     "name": "stdin",
     "output_type": "stream",
     "text": [
      "Enter num1 :  20\n",
      "Enter num2 :  30\n"
     ]
    },
    {
     "name": "stdout",
     "output_type": "stream",
     "text": [
      "50\n"
     ]
    }
   ],
   "source": [
    "a = int(input(\"Enter num1 : \"))\n",
    "b = int(input(\"Enter num2 : \"))\n",
    "c = a + b;\n",
    "print(c);"
   ]
  },
  {
   "cell_type": "code",
   "execution_count": 21,
   "id": "c01823ed-27b1-4d11-aa15-6bcebb3d7cc2",
   "metadata": {},
   "outputs": [
    {
     "name": "stdin",
     "output_type": "stream",
     "text": [
      "ENter radius :  30\n"
     ]
    },
    {
     "name": "stdout",
     "output_type": "stream",
     "text": [
      "Area is  2826.0  that's it.\n"
     ]
    }
   ],
   "source": [
    "r = float(input(\"Enter radius : \"))\n",
    "pi = 3.14;\n",
    "area = pi * (r*r)\n",
    "print(\"Area is \",area,\" that's it.\")"
   ]
  },
  {
   "cell_type": "code",
   "execution_count": 20,
   "id": "b4856b79-45f0-4cd4-886c-9e9697930297",
   "metadata": {
    "scrolled": true
   },
   "outputs": [
    {
     "ename": "IndentationError",
     "evalue": "expected an indented block after 'if' statement on line 1 (3589778228.py, line 2)",
     "output_type": "error",
     "traceback": [
      "\u001b[1;36m  Cell \u001b[1;32mIn[20], line 2\u001b[1;36m\u001b[0m\n\u001b[1;33m    print(\"10 is less\")\u001b[0m\n\u001b[1;37m    ^\u001b[0m\n\u001b[1;31mIndentationError\u001b[0m\u001b[1;31m:\u001b[0m expected an indented block after 'if' statement on line 1\n"
     ]
    }
   ],
   "source": [
    "if(10<20):\n",
    "print(\"10 is less\")"
   ]
  },
  {
   "cell_type": "code",
   "execution_count": 22,
   "id": "7225a426-779f-4a37-a2fe-b14db8de65d5",
   "metadata": {},
   "outputs": [
    {
     "name": "stdin",
     "output_type": "stream",
     "text": [
      "ENter p :  20000\n",
      "ENter r :  3\n",
      "ENter n :  2\n"
     ]
    },
    {
     "name": "stdout",
     "output_type": "stream",
     "text": [
      "Simple Interest is :  1200.0\n"
     ]
    }
   ],
   "source": [
    "p = float(input(\"ENter p : \"))\n",
    "r = float(input(\"ENter r : \"))\n",
    "n = float(input(\"ENter n : \"))\n",
    "si = (p*r*n)/100;\n",
    "print(\"Simple Interest is : \",si)"
   ]
  },
  {
   "cell_type": "code",
   "execution_count": 26,
   "id": "1ca1c0d1-0c0c-4b82-99a6-893aba5aebed",
   "metadata": {},
   "outputs": [
    {
     "name": "stdin",
     "output_type": "stream",
     "text": [
      "ENter radius :  30\n"
     ]
    },
    {
     "name": "stdout",
     "output_type": "stream",
     "text": [
      "Circumference is :  188.4\n"
     ]
    }
   ],
   "source": [
    "r = float(input(\"ENter radius : \"))\n",
    "circum = 2 * 3.14 * r;\n",
    "print(\"Circumference is : \",circum)"
   ]
  },
  {
   "cell_type": "code",
   "execution_count": 27,
   "id": "87398f28-f09f-439d-8911-1d6cf51521ee",
   "metadata": {},
   "outputs": [
    {
     "name": "stdout",
     "output_type": "stream",
     "text": [
      "2 X 1 = 2\n",
      "2 X 2 = 4\n",
      "2 X 3 = 6\n",
      "2 X 4 = 8\n",
      "2 X 5 = 10\n",
      "2 X 6 = 12\n",
      "2 X 7 = 14\n",
      "2 X 8 = 16\n",
      "2 X 9 = 18\n",
      "2 X 10 = 20\n"
     ]
    }
   ],
   "source": [
    "print(\"2 X 1 = 2\")\n",
    "print(\"2 X 2 = 4\")\n",
    "print(\"2 X 3 = 6\")\n",
    "print(\"2 X 4 = 8\")\n",
    "print(\"2 X 5 = 10\")\n",
    "print(\"2 X 6 = 12\")\n",
    "print(\"2 X 7 = 14\")\n",
    "print(\"2 X 8 = 16\")\n",
    "print(\"2 X 9 = 18\")\n",
    "print(\"2 X 10 = 20\")"
   ]
  },
  {
   "cell_type": "code",
   "execution_count": 28,
   "id": "3e1c39e2-5668-4a91-9394-0230fcb2055b",
   "metadata": {},
   "outputs": [
    {
     "name": "stdin",
     "output_type": "stream",
     "text": [
      "Enter a number:  3\n"
     ]
    },
    {
     "name": "stdout",
     "output_type": "stream",
     "text": [
      "3  X  1  =  3\n",
      "3  X  2  =  6\n",
      "3  X  3  =  9\n",
      "3  X  4  =  12\n",
      "3  X  5  =  15\n",
      "3  X  6  =  18\n",
      "3  X  7  =  21\n",
      "3  X  8  =  24\n",
      "3  X  9  =  27\n",
      "3  X  10  =  30\n"
     ]
    }
   ],
   "source": [
    "number = int(input(\"Enter a number: \"))\n",
    "\n",
    "for i in range(1, 11):\n",
    "    result = number * i\n",
    "    print(number,\" X \",i,\" = \",result)"
   ]
  },
  {
   "cell_type": "code",
   "execution_count": 30,
   "id": "99e9f1cd-432a-4e89-b4bb-b238dfaa0709",
   "metadata": {},
   "outputs": [
    {
     "name": "stdin",
     "output_type": "stream",
     "text": [
      "Enter Base : 20\n",
      "Enter Height :  30\n"
     ]
    },
    {
     "name": "stdout",
     "output_type": "stream",
     "text": [
      "Area of Triangle is  300.0\n"
     ]
    }
   ],
   "source": [
    "base = int(input(\"Enter Base :\"))\n",
    "height = int(input(\"Enter Height : \"))\n",
    "area = 1/2 * base * height;\n",
    "print(\"Area of Triangle is \",area)"
   ]
  },
  {
   "cell_type": "code",
   "execution_count": 31,
   "id": "42c8a702-d4cc-4823-983b-c47f89aff394",
   "metadata": {},
   "outputs": [
    {
     "name": "stdin",
     "output_type": "stream",
     "text": [
      "Enter celcius :  30\n"
     ]
    },
    {
     "name": "stdout",
     "output_type": "stream",
     "text": [
      "fahrenhit is  54.0\n"
     ]
    },
    {
     "name": "stdin",
     "output_type": "stream",
     "text": [
      "Enter fahrenhit :  54\n"
     ]
    },
    {
     "name": "stdout",
     "output_type": "stream",
     "text": [
      "celcius is :  12.222222222222221\n"
     ]
    }
   ],
   "source": [
    "c = float(input(\"Enter celcius : \"))\n",
    "f = (9/5 * c);\n",
    "print(\"fahrenhit is \",f);\n",
    "\n",
    "F = float(input(\"Enter fahrenhit : \"))\n",
    "C = (F - 32) * 5/9;\n",
    "print(\"celcius is : \",C);"
   ]
  },
  {
   "cell_type": "code",
   "execution_count": null,
   "id": "df6875e2-1206-4cc7-85dd-3e20dd0406b5",
   "metadata": {},
   "outputs": [],
   "source": [
    "m1 = int(input(\"Enter Marks 1 :\"))\n",
    "m2 = int(input(\"Enter Marks 2 :\"))\n",
    "m3 = int(input(\"Enter Marks 3 :\"))\n",
    "m4 = int(input(\"Enter Marks 4 :\"))\n",
    "total = m1+m2+m3+m4;\n",
    "pr = total/4 * 100;\n",
    "print(\"total : \"))"
   ]
  }
 ],
 "metadata": {
  "kernelspec": {
   "display_name": "Python 3 (ipykernel)",
   "language": "python",
   "name": "python3"
  },
  "language_info": {
   "codemirror_mode": {
    "name": "ipython",
    "version": 3
   },
   "file_extension": ".py",
   "mimetype": "text/x-python",
   "name": "python",
   "nbconvert_exporter": "python",
   "pygments_lexer": "ipython3",
   "version": "3.12.7"
  }
 },
 "nbformat": 4,
 "nbformat_minor": 5
}
