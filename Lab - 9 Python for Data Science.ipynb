{
 "cells": [
  {
   "cell_type": "markdown",
   "id": "fd1bc7f2-33b9-4401-b22b-f4008fdb4c71",
   "metadata": {},
   "source": [
    "<a href='https://www.darshan.ac.in/'> <img src='https://www.darshan.ac.in/Content/media/DU_Logo.svg' width=\"150\" height=\"200\"/></a>\n",
    "<pre>\n",
    "<center><b><h2> Python for Data Science - 2305CS303 </b></center>\n",
    "<center><b><h2>Lab - 9</b></center>    \n",
    "<left><b><h3>Roll No. : 111</b></left>  \n",
    "<left><b><h3>Name : Dhara Maru</b></left>   \n",
    "<pre>    "
   ]
  },
  {
   "cell_type": "markdown",
   "id": "4775ea51-e4f7-4bec-9066-34d55f26f638",
   "metadata": {},
   "source": [
    "### 1. Create a Pandas Series containing names of 5 students."
   ]
  },
  {
   "cell_type": "code",
   "execution_count": 1,
   "id": "ef6095ee-17bb-431d-9213-1c2daaec77d9",
   "metadata": {},
   "outputs": [
    {
     "name": "stdout",
     "output_type": "stream",
     "text": [
      "0    Dhara\n",
      "1    Hetvi\n",
      "2     Udit\n",
      "3     Piyu\n",
      "4     Manu\n",
      "dtype: object\n"
     ]
    }
   ],
   "source": [
    "import pandas as pd\n",
    "\n",
    "students = pd.Series([\"Dhara\", \"Hetvi\", \"Udit\", \"Piyu\", \"Manu\"])\n",
    "print(students)"
   ]
  },
  {
   "cell_type": "markdown",
   "id": "675a5405-3a85-4acb-981f-e177816dd346",
   "metadata": {},
   "source": [
    "### 2. Create a Series with student roll numbers as index and their IAT scores as values.."
   ]
  },
  {
   "cell_type": "code",
   "execution_count": 2,
   "id": "7a27d309-9090-4aa7-99d6-25ee8b6dbca9",
   "metadata": {},
   "outputs": [
    {
     "name": "stdout",
     "output_type": "stream",
     "text": [
      "101    85\n",
      "102    78\n",
      "103    92\n",
      "104    74\n",
      "105    88\n",
      "dtype: int64\n"
     ]
    }
   ],
   "source": [
    "import pandas as pd\n",
    "\n",
    "scores = pd.Series([85, 78, 92, 74, 88], index=[101, 102, 103, 104, 105])\n",
    "print(scores)"
   ]
  },
  {
   "cell_type": "markdown",
   "id": "49ebf22b-cf7b-4d0d-8978-57edc0cda362",
   "metadata": {},
   "source": [
    "### 3. Create a time series (daily) from 2025-08-01 to 2025-08-10 representing attendance tracking for a student."
   ]
  },
  {
   "cell_type": "code",
   "execution_count": 3,
   "id": "e787cf49-effc-4d1b-8546-3ef751701cab",
   "metadata": {},
   "outputs": [
    {
     "name": "stdout",
     "output_type": "stream",
     "text": [
      "2025-08-01    1\n",
      "2025-08-02    1\n",
      "2025-08-03    0\n",
      "2025-08-04    1\n",
      "2025-08-05    1\n",
      "2025-08-06    1\n",
      "2025-08-07    0\n",
      "2025-08-08    1\n",
      "2025-08-09    1\n",
      "2025-08-10    1\n",
      "Freq: D, dtype: int64\n"
     ]
    }
   ],
   "source": [
    "import pandas as pd\n",
    "\n",
    "dates = pd.date_range(start=\"2025-08-01\", end=\"2025-08-10\", freq=\"D\")\n",
    "attendance = pd.Series([1, 1, 0, 1, 1, 1, 0, 1, 1, 1], index=dates)\n",
    "print(attendance)"
   ]
  },
  {
   "cell_type": "markdown",
   "id": "08e8af17-4ef1-4734-8cdf-6f8d0675ff7e",
   "metadata": {},
   "source": [
    "### 4. Create a DataFrame for 10 students with the following columns: Roll No, Name, PDS, CA, CN, IAT.\n",
    "#### (Use NumPy random module to generate scores)"
   ]
  },
  {
   "cell_type": "code",
   "execution_count": 4,
   "id": "cdeedbc3-c526-441f-85a9-045360caa446",
   "metadata": {},
   "outputs": [
    {
     "name": "stdout",
     "output_type": "stream",
     "text": [
      "   Roll No    Name  PDS  CA  CN  IAT\n",
      "0      101    Amit   97  72  89   67\n",
      "1      102    Riya   72  67  74   82\n",
      "2      103   Karan   68  66  64   61\n",
      "3      104   Sneha   69  85  83   60\n",
      "4      105  Vikram   71  80  83   77\n",
      "5      106   Meena   65  97  90   68\n",
      "6      107   Arjun   75  78  92   84\n",
      "7      108   Pooja   60  80  82   73\n",
      "8      109   Rahul   76  71  73   68\n",
      "9      110    Neha   61  88  69   90\n"
     ]
    }
   ],
   "source": [
    "import pandas as pd\n",
    "import numpy as np\n",
    "\n",
    "np.random.seed(1)\n",
    "roll_no = range(101, 111)\n",
    "names = [\"Amit\", \"Riya\", \"Karan\", \"Sneha\", \"Vikram\", \"Meena\", \"Arjun\", \"Pooja\", \"Rahul\", \"Neha\"]\n",
    "pds = np.random.randint(60, 100, 10)\n",
    "ca = np.random.randint(60, 100, 10)\n",
    "cn = np.random.randint(60, 100, 10)\n",
    "iat = np.random.randint(60, 100, 10)\n",
    "\n",
    "df = pd.DataFrame({\n",
    "    \"Roll No\": roll_no,\n",
    "    \"Name\": names,\n",
    "    \"PDS\": pds,\n",
    "    \"CA\": ca,\n",
    "    \"CN\": cn,\n",
    "    \"IAT\": iat\n",
    "})\n",
    "print(df)"
   ]
  },
  {
   "cell_type": "markdown",
   "id": "c2c54c21-abe2-439f-bc8e-5a43be7c5031",
   "metadata": {},
   "source": [
    "### 5. Display the first 3 rows of the DataFrame."
   ]
  },
  {
   "cell_type": "code",
   "execution_count": 5,
   "id": "97bac1f7-f69e-4ab4-9df4-aa392ced129a",
   "metadata": {},
   "outputs": [
    {
     "name": "stdout",
     "output_type": "stream",
     "text": [
      "   Roll No   Name  PDS  CA  CN  IAT\n",
      "0      101   Amit   97  72  89   67\n",
      "1      102   Riya   72  67  74   82\n",
      "2      103  Karan   68  66  64   61\n"
     ]
    }
   ],
   "source": [
    "print(df.head(3))"
   ]
  },
  {
   "cell_type": "markdown",
   "id": "29b8c7da-fe08-45eb-9e27-2c47ab1ec26f",
   "metadata": {},
   "source": [
    "### 6. Display the last 2 rows of the DataFrame."
   ]
  },
  {
   "cell_type": "code",
   "execution_count": 6,
   "id": "2e4dbdd6-d10b-4d08-9a4a-cb0acee96281",
   "metadata": {},
   "outputs": [
    {
     "name": "stdout",
     "output_type": "stream",
     "text": [
      "   Roll No   Name  PDS  CA  CN  IAT\n",
      "8      109  Rahul   76  71  73   68\n",
      "9      110   Neha   61  88  69   90\n"
     ]
    }
   ],
   "source": [
    "print(df.tail(2))"
   ]
  },
  {
   "cell_type": "markdown",
   "id": "b76592c9-38ed-4b92-a0c4-9ed2a833bb53",
   "metadata": {},
   "source": [
    "### 7. Use .describe() to summarize the numeric data."
   ]
  },
  {
   "cell_type": "code",
   "execution_count": 7,
   "id": "d54030cb-ac22-43d1-b7c7-c8494cf59b13",
   "metadata": {},
   "outputs": [
    {
     "name": "stdout",
     "output_type": "stream",
     "text": [
      "         Roll No        PDS         CA         CN        IAT\n",
      "count   10.00000  10.000000  10.000000  10.000000  10.000000\n",
      "mean   105.50000  71.400000  78.400000  79.900000  73.000000\n",
      "std      3.02765  10.469002   9.811558   9.480389  10.033278\n",
      "min    101.00000  60.000000  66.000000  64.000000  60.000000\n",
      "25%    103.25000  65.750000  71.250000  73.250000  67.250000\n",
      "50%    105.50000  70.000000  79.000000  82.500000  70.500000\n",
      "75%    107.75000  74.250000  83.750000  87.500000  80.750000\n",
      "max    110.00000  97.000000  97.000000  92.000000  90.000000\n"
     ]
    }
   ],
   "source": [
    "print(df.describe())"
   ]
  },
  {
   "cell_type": "markdown",
   "id": "ddf54203-47cb-425c-b118-3318148c2571",
   "metadata": {},
   "source": [
    "### 8. Select only the Name column."
   ]
  },
  {
   "cell_type": "code",
   "execution_count": 8,
   "id": "75b79085-18d5-41cf-b6f2-fe1c659b5eef",
   "metadata": {},
   "outputs": [
    {
     "name": "stdout",
     "output_type": "stream",
     "text": [
      "0      Amit\n",
      "1      Riya\n",
      "2     Karan\n",
      "3     Sneha\n",
      "4    Vikram\n",
      "5     Meena\n",
      "6     Arjun\n",
      "7     Pooja\n",
      "8     Rahul\n",
      "9      Neha\n",
      "Name: Name, dtype: object\n"
     ]
    }
   ],
   "source": [
    "print(df[\"Name\"])"
   ]
  },
  {
   "cell_type": "markdown",
   "id": "f6a3191f-3348-4ba0-9222-cd560e7a734a",
   "metadata": {},
   "source": [
    "### 9. Select the columns PDS, CN, and IAT."
   ]
  },
  {
   "cell_type": "code",
   "execution_count": 9,
   "id": "ecd23840-7d27-4a0d-8d44-7c6d1fa26b72",
   "metadata": {},
   "outputs": [
    {
     "name": "stdout",
     "output_type": "stream",
     "text": [
      "   PDS  CN  IAT\n",
      "0   97  89   67\n",
      "1   72  74   82\n",
      "2   68  64   61\n",
      "3   69  83   60\n",
      "4   71  83   77\n",
      "5   65  90   68\n",
      "6   75  92   84\n",
      "7   60  82   73\n",
      "8   76  73   68\n",
      "9   61  69   90\n"
     ]
    }
   ],
   "source": [
    "print(df[[\"PDS\", \"CN\", \"IAT\"]])"
   ]
  },
  {
   "cell_type": "markdown",
   "id": "a90ecdf6-9f21-4b25-ace0-6083c311dddf",
   "metadata": {},
   "source": [
    "### 10. Select the row with Roll No = 105 using loc.\n"
   ]
  },
  {
   "cell_type": "code",
   "execution_count": 10,
   "id": "cb16a8ae-2d76-4e3c-8fac-ce9583e77ecf",
   "metadata": {},
   "outputs": [
    {
     "name": "stdout",
     "output_type": "stream",
     "text": [
      "   Roll No    Name  PDS  CA  CN  IAT\n",
      "4      105  Vikram   71  80  83   77\n"
     ]
    }
   ],
   "source": [
    "print(df.loc[df[\"Roll No\"] == 105])"
   ]
  },
  {
   "cell_type": "markdown",
   "id": "e7b02e28-8b48-4644-8451-160e19cc5873",
   "metadata": {},
   "source": [
    "### 11. Select the 4th row using iloc."
   ]
  },
  {
   "cell_type": "code",
   "execution_count": 11,
   "id": "104f1bb6-0725-4187-aaa2-ce4f9ec6ff81",
   "metadata": {},
   "outputs": [
    {
     "name": "stdout",
     "output_type": "stream",
     "text": [
      "Roll No      104\n",
      "Name       Sneha\n",
      "PDS           69\n",
      "CA            85\n",
      "CN            83\n",
      "IAT           60\n",
      "Name: 3, dtype: object\n"
     ]
    }
   ],
   "source": [
    "print(df.iloc[3])"
   ]
  },
  {
   "cell_type": "markdown",
   "id": "940463e7-3ef5-47eb-b206-37822161d9a8",
   "metadata": {},
   "source": [
    "### 12. Select students with marks in PDS > 80."
   ]
  },
  {
   "cell_type": "code",
   "execution_count": 12,
   "id": "7d493bed-10d9-4544-bcd3-ab7b5bfec64f",
   "metadata": {},
   "outputs": [
    {
     "name": "stdout",
     "output_type": "stream",
     "text": [
      "   Roll No  Name  PDS  CA  CN  IAT\n",
      "0      101  Amit   97  72  89   67\n"
     ]
    }
   ],
   "source": [
    "print(df[df[\"PDS\"] > 80])"
   ]
  },
  {
   "cell_type": "markdown",
   "id": "1381be74-c739-4773-8248-5077b6d4fcd9",
   "metadata": {},
   "source": [
    "### 13. Select students with marks in CA < 70. "
   ]
  },
  {
   "cell_type": "code",
   "execution_count": 13,
   "id": "b01f3692-ae72-48bb-a019-64cb4f67b0fe",
   "metadata": {},
   "outputs": [
    {
     "name": "stdout",
     "output_type": "stream",
     "text": [
      "   Roll No   Name  PDS  CA  CN  IAT\n",
      "1      102   Riya   72  67  74   82\n",
      "2      103  Karan   68  66  64   61\n"
     ]
    }
   ],
   "source": [
    "print(df[df[\"CA\"] < 70])"
   ]
  },
  {
   "cell_type": "markdown",
   "id": "a83dd20a-efd2-4421-94c2-917009b61b07",
   "metadata": {},
   "source": [
    "### 14. Select students with marks in CN > 85 and PDS > 80"
   ]
  },
  {
   "cell_type": "code",
   "execution_count": 14,
   "id": "911f90a5-79a3-4bac-9fed-8f1cb8f5c7fd",
   "metadata": {},
   "outputs": [
    {
     "name": "stdout",
     "output_type": "stream",
     "text": [
      "   Roll No  Name  PDS  CA  CN  IAT\n",
      "0      101  Amit   97  72  89   67\n"
     ]
    }
   ],
   "source": [
    "print(df[(df[\"CN\"] > 85) & (df[\"PDS\"] > 80)])"
   ]
  },
  {
   "cell_type": "markdown",
   "id": "02af34d1-be8a-4536-b329-7628391bd3ea",
   "metadata": {},
   "source": [
    "### 15. Add a new column Total Marks = PDS + CA + CN + IAT."
   ]
  },
  {
   "cell_type": "code",
   "execution_count": 15,
   "id": "5ce24a7a-5766-4ec6-a230-a006742a81bf",
   "metadata": {},
   "outputs": [
    {
     "name": "stdout",
     "output_type": "stream",
     "text": [
      "   Roll No    Name  PDS  CA  CN  IAT  Total Marks\n",
      "0      101    Amit   97  72  89   67          325\n",
      "1      102    Riya   72  67  74   82          295\n",
      "2      103   Karan   68  66  64   61          259\n",
      "3      104   Sneha   69  85  83   60          297\n",
      "4      105  Vikram   71  80  83   77          311\n",
      "5      106   Meena   65  97  90   68          320\n",
      "6      107   Arjun   75  78  92   84          329\n",
      "7      108   Pooja   60  80  82   73          295\n",
      "8      109   Rahul   76  71  73   68          288\n",
      "9      110    Neha   61  88  69   90          308\n"
     ]
    }
   ],
   "source": [
    "df[\"Total Marks\"] = df[\"PDS\"] + df[\"CA\"] + df[\"CN\"] + df[\"IAT\"]\n",
    "print(df)"
   ]
  },
  {
   "cell_type": "markdown",
   "id": "5d38c8d8-4ce6-4088-a1c7-dff745280b7d",
   "metadata": {},
   "source": [
    "### 16. Create a new DataFrame of students with Total Marks > 320."
   ]
  },
  {
   "cell_type": "code",
   "execution_count": 16,
   "id": "269faf07-cae6-4c92-a14d-7b44ef6b27f7",
   "metadata": {},
   "outputs": [
    {
     "name": "stdout",
     "output_type": "stream",
     "text": [
      "   Roll No   Name  PDS  CA  CN  IAT  Total Marks\n",
      "0      101   Amit   97  72  89   67          325\n",
      "6      107  Arjun   75  78  92   84          329\n"
     ]
    }
   ],
   "source": [
    "df_high = df[df[\"Total Marks\"] > 320]\n",
    "print(df_high)"
   ]
  }
 ],
 "metadata": {
  "kernelspec": {
   "display_name": "Python 3",
   "language": "python",
   "name": "python3"
  },
  "language_info": {
   "codemirror_mode": {
    "name": "ipython",
    "version": 3
   },
   "file_extension": ".py",
   "mimetype": "text/x-python",
   "name": "python",
   "nbconvert_exporter": "python",
   "pygments_lexer": "ipython3",
   "version": "3.10.12"
  }
 },
 "nbformat": 4,
 "nbformat_minor": 5
}
