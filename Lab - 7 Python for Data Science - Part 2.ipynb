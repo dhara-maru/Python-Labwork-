{
 "cells": [
  {
   "cell_type": "markdown",
   "metadata": {},
   "source": [
    "<a href='https://www.darshan.ac.in/'> <img src='https://www.darshan.ac.in/Content/media/DU_Logo.svg' width=\"250\" height=\"300\"/></a>\n",
    "<pre>\n",
    "<center><b><h1>Python Programming - 2301CS404</b></center>\n",
    "<center><b><h1>Lab - 7 (Part-2)</b></center>    \n",
    "<pre>"
   ]
  },
  {
   "cell_type": "markdown",
   "metadata": {},
   "source": [
    "# User Defined Function"
   ]
  },
  {
   "cell_type": "markdown",
   "metadata": {},
   "source": [
    "### 12. Write a function to calculate the sum of the first element of each tuples inside the list."
   ]
  },
  {
   "cell_type": "code",
   "execution_count": 1,
   "metadata": {},
   "outputs": [
    {
     "name": "stdout",
     "output_type": "stream",
     "text": [
      "21\n"
     ]
    }
   ],
   "source": [
    "def sumFirstElements(tuplesList):\n",
    "    total = 0\n",
    "    for t in tuplesList:\n",
    "        total += t[0]\n",
    "    return total\n",
    "\n",
    "sampleTuplesList = [(4, 2), (7, 8), (1, 3), (9, 5)]\n",
    "print(sumFirstElements(sampleTuplesList))"
   ]
  },
  {
   "cell_type": "markdown",
   "metadata": {},
   "source": [
    "### 13. Write a function to get the name of the student based on the given rollno.\n",
    "#### Example: Given dict1 = {101:'Ajay', 102:'Rahul', 103:'Jay', 104:'Pooja'} find name of student whose rollno = 103"
   ]
  },
  {
   "cell_type": "code",
   "execution_count": 2,
   "metadata": {},
   "outputs": [
    {
     "name": "stdout",
     "output_type": "stream",
     "text": [
      "Hetvi\n"
     ]
    }
   ],
   "source": [
    "def getStudentName(rollno, dict1):\n",
    "    for key in dict1:\n",
    "        if key == rollno:\n",
    "            return dict1[key]\n",
    "\n",
    "dict1 = {101: 'Dhara', 102: 'Udit', 103: 'Hetvi', 104: 'Piyu'}\n",
    "print(getStudentName(103, dict1))"
   ]
  },
  {
   "cell_type": "markdown",
   "metadata": {},
   "source": [
    "### 14. Write a function to get the sum of the scores ending with zero.\n",
    "#### Example : scores = [200, 456, 300, 100, 234, 678] \n",
    "#### Ans = 200 + 300 + 100 = 600"
   ]
  },
  {
   "cell_type": "code",
   "execution_count": 3,
   "metadata": {},
   "outputs": [
    {
     "name": "stdout",
     "output_type": "stream",
     "text": [
      "600\n"
     ]
    }
   ],
   "source": [
    "def sumScoresEndingWithZero(scores):\n",
    "    total = 0\n",
    "    for score in scores:\n",
    "        if score % 10 == 0:\n",
    "            total += score\n",
    "    return total\n",
    "\n",
    "scores = [200, 456, 300, 100, 234, 678]\n",
    "print(sumScoresEndingWithZero(scores))"
   ]
  },
  {
   "cell_type": "markdown",
   "metadata": {},
   "source": [
    "### 15. Write a function to invert a given Dictionary.\n",
    "#### hint: keys to values & values to keys\n",
    "#### Before : {'a': 10, 'b':20, 'c':30, 'd':40}\n",
    "#### After : {10:'a', 20:'b', 30:'c', 40:'d'}"
   ]
  },
  {
   "cell_type": "code",
   "execution_count": 4,
   "metadata": {},
   "outputs": [
    {
     "name": "stdout",
     "output_type": "stream",
     "text": [
      "{10: 'a', 20: 'b', 30: 'c', 40: 'd'}\n"
     ]
    }
   ],
   "source": [
    "def invertDictionary(originalDict):\n",
    "    invertedDict = {}\n",
    "    for key in originalDict:\n",
    "        value = originalDict[key]\n",
    "        invertedDict[value] = key\n",
    "    return invertedDict\n",
    "\n",
    "originalDict = {'a': 10, 'b': 20, 'c': 30, 'd': 40}\n",
    "print(invertDictionary(originalDict))"
   ]
  },
  {
   "cell_type": "markdown",
   "metadata": {},
   "source": [
    "### 16. Write a function that returns the number of uppercase and lowercase letters in the given string. \n",
    "#### example : Input : s1 = AbcDEfgh ,Ouptput : no_upper = 3, no_lower = 5"
   ]
  },
  {
   "cell_type": "code",
   "execution_count": 5,
   "metadata": {},
   "outputs": [
    {
     "name": "stdout",
     "output_type": "stream",
     "text": [
      "no_upper = 3\n",
      "no_lower = 5\n"
     ]
    }
   ],
   "source": [
    "def countCase(s1):\n",
    "    noUpper = 0\n",
    "    noLower = 0\n",
    "    for ch in s1:\n",
    "        if ch >= 'A' and ch <= 'Z':\n",
    "            noUpper += 1\n",
    "        elif ch >= 'a' and ch <= 'z':\n",
    "            noLower += 1\n",
    "    return noUpper, noLower\n",
    "\n",
    "s1 = \"AbcDEfgh\"\n",
    "upperCount, lowerCount = countCase(s1)\n",
    "print(\"no_upper =\", upperCount)\n",
    "print(\"no_lower =\", lowerCount)"
   ]
  },
  {
   "cell_type": "markdown",
   "metadata": {},
   "source": [
    "### 17.Write a lambda function to get smallest number from the given two numbers."
   ]
  },
  {
   "cell_type": "code",
   "execution_count": 6,
   "metadata": {},
   "outputs": [
    {
     "name": "stdout",
     "output_type": "stream",
     "text": [
      "10\n"
     ]
    }
   ],
   "source": [
    "getSmallest = lambda a, b: a if a < b else b\n",
    "print(getSmallest(10, 25))"
   ]
  },
  {
   "cell_type": "markdown",
   "metadata": {},
   "source": [
    "### 18. For the given list of names of students, extract the names having more that 7 characters. Use filter()."
   ]
  },
  {
   "cell_type": "code",
   "execution_count": 7,
   "metadata": {},
   "outputs": [
    {
     "name": "stdout",
     "output_type": "stream",
     "text": [
      "['Siddharth', 'Priyanka', 'Chandresh']\n"
     ]
    }
   ],
   "source": [
    "names = ['Siddharth', 'Aman', 'Priyanka', 'Rohit', 'Chandresh', 'Neha']\n",
    "longNames = list(filter(lambda name: len(name) > 7, names))\n",
    "print(longNames)"
   ]
  },
  {
   "cell_type": "markdown",
   "metadata": {},
   "source": [
    "### 19. For the given list of names of students, convert the first letter of all the names into uppercase. use map()."
   ]
  },
  {
   "cell_type": "code",
   "execution_count": 8,
   "metadata": {},
   "outputs": [
    {
     "name": "stdout",
     "output_type": "stream",
     "text": [
      "['Siddharth', 'Aman', 'Priyanka', 'Rohit', 'Chandresh', 'Neha']\n"
     ]
    }
   ],
   "source": [
    "names = ['siddharth', 'aman', 'priyanka', 'rohit', 'chandresh', 'neha']\n",
    "capitalizedNames = list(map(lambda name: name[0].upper() + name[1:], names))\n",
    "print(capitalizedNames)"
   ]
  },
  {
   "cell_type": "markdown",
   "metadata": {},
   "source": [
    "### 20. Write udfs to call the functions with following types of arguments:\n",
    "1. Positional Arguments\n",
    "2. Keyword Arguments\n",
    "3. Default Arguments\n",
    "4. Variable Legngth Positional(*args) & variable length Keyword Arguments (**kwargs)\n",
    "5. Keyword-Only & Positional Only Arguments"
   ]
  },
  {
   "cell_type": "code",
   "execution_count": 9,
   "metadata": {},
   "outputs": [
    {
     "name": "stdout",
     "output_type": "stream",
     "text": [
      "Positional Arguments Name: Dharaa\n",
      "Positional Arguments Age: 20\n",
      "Keyword Arguments Name: Dharaa\n",
      "Keyword Arguments Age: 20\n",
      "Name: Dharaa\n",
      "Age: 18\n",
      "Variable Length Positional Total Marks: 325\n",
      "Variable length keywordsname: Dharaa\n",
      "Variable length keywordsage: 20\n",
      "Variable length keywordsgrade: A\n",
      "Keyword only Name: Dharaa\n",
      "Keyword only Grade: A\n",
      "Keyword only Marks: 92\n",
      "Positional Only Name: Dharaa\n",
      "Positional Only Age: 20\n"
     ]
    }
   ],
   "source": [
    "#Positional Arguments\n",
    "def showDetailspos(name, age):\n",
    "    print(\"Positional Arguments Name:\", name)\n",
    "    print(\"Positional Arguments Age:\", age)\n",
    "\n",
    "showDetailspos(\"Dharaa\", 20)\n",
    "\n",
    "#Keyword Arguments\n",
    "def showDetailskey(name, age):\n",
    "    print(\"Keyword Arguments Name:\", name)\n",
    "    print(\"Keyword Arguments Age:\", age)\n",
    "\n",
    "showDetailskey(age=20, name=\"Dharaa\")\n",
    "\n",
    "#Default Arguments\n",
    "def showDetailsdef(name, age=18):\n",
    "    print(\"Name:\", name)\n",
    "    print(\"Age:\", age)\n",
    "\n",
    "showDetailsdef(\"Dharaa\")\n",
    "\n",
    "#Variable Length Positional\n",
    "def totalMarksvlp(*marks):\n",
    "    total = 0\n",
    "    for m in marks:\n",
    "        total += m\n",
    "    print(\"Variable Length Positional Total Marks:\", total)\n",
    "\n",
    "totalMarksvlp(70, 80, 90, 85)\n",
    "\n",
    "#Variable length keywords\n",
    "def studentInfovlk(**kwargs):\n",
    "    for key in kwargs:\n",
    "        print(\"Variable length keywords\" + key + \":\", kwargs[key])\n",
    "\n",
    "studentInfovlk(name=\"Dharaa\", age=20, grade=\"A\")\n",
    "\n",
    "#Keyword only\n",
    "def showResultko(name, *, grade, marks):\n",
    "    print(\"Keyword only Name:\", name)\n",
    "    print(\"Keyword only Grade:\", grade)\n",
    "    print(\"Keyword only Marks:\", marks)\n",
    "\n",
    "showResultko(\"Dharaa\", grade=\"A\", marks=92)\n",
    "\n",
    "#Positional Only\n",
    "def showStudentpo(name, age, /):\n",
    "    print(\"Positional Only Name:\", name)\n",
    "    print(\"Positional Only Age:\", age)\n",
    "\n",
    "showStudentpo(\"Dharaa\", 20)"
   ]
  }
 ],
 "metadata": {
  "kernelspec": {
   "display_name": "Python 3 (ipykernel)",
   "language": "python",
   "name": "python3"
  },
  "language_info": {
   "codemirror_mode": {
    "name": "ipython",
    "version": 3
   },
   "file_extension": ".py",
   "mimetype": "text/x-python",
   "name": "python",
   "nbconvert_exporter": "python",
   "pygments_lexer": "ipython3",
   "version": "3.12.7"
  }
 },
 "nbformat": 4,
 "nbformat_minor": 4
}
