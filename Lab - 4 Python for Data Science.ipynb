{
 "cells": [
  {
   "cell_type": "markdown",
   "id": "fd1bc7f2-33b9-4401-b22b-f4008fdb4c71",
   "metadata": {},
   "source": [
    "<a href='https://www.darshan.ac.in/'> <img src='https://www.darshan.ac.in/Content/media/DU_Logo.svg' width=\"150\" height=\"200\"/></a>\n",
    "<pre>\n",
    "<center><b><h2> Python for Data Science - 2305CS303 </b></center>\n",
    "<center><b><h2>Lab - 4</b></center>    \n",
    "<left><b><h3>Roll No. : 111</b></left>  \n",
    "<left><b><h3>Name : Dhara Maru</b></left>   \n",
    "<pre>    "
   ]
  },
  {
   "cell_type": "markdown",
   "id": "4775ea51-e4f7-4bec-9066-34d55f26f638",
   "metadata": {},
   "source": [
    "### 1. WAP to check given string is palindrome or not."
   ]
  },
  {
   "cell_type": "code",
   "execution_count": 1,
   "id": "0c129df0-0199-4a6d-b363-a27435769ab1",
   "metadata": {},
   "outputs": [
    {
     "name": "stdin",
     "output_type": "stream",
     "text": [
      "Enter any string :  abba\n"
     ]
    },
    {
     "name": "stdout",
     "output_type": "stream",
     "text": [
      "String is palindrome\n"
     ]
    }
   ],
   "source": [
    "s = input(\"Enter any string : \")\n",
    "revstr = s[::-1]\n",
    "if revstr == s:\n",
    "    print(\"String is palindrome\")\n",
    "else:\n",
    "    print(\"String is not palindrome\")"
   ]
  },
  {
   "cell_type": "markdown",
   "id": "08e8af17-4ef1-4734-8cdf-6f8d0675ff7e",
   "metadata": {},
   "source": [
    "### 2.WAP to reverse the words in given string."
   ]
  },
  {
   "cell_type": "code",
   "execution_count": 7,
   "id": "cdeedbc3-c526-441f-85a9-045360caa446",
   "metadata": {},
   "outputs": [
    {
     "name": "stdin",
     "output_type": "stream",
     "text": [
      "Enter any string :  hello plnubv\n"
     ]
    },
    {
     "name": "stdout",
     "output_type": "stream",
     "text": [
      "plnubvhello\n"
     ]
    }
   ],
   "source": [
    "s1 = input(\"Enter any string : \")\n",
    "li = s1.split()\n",
    "reverseli = li[::-1]\n",
    "str=''.join(reverseli)\n",
    "print(str)"
   ]
  },
  {
   "cell_type": "markdown",
   "id": "c2c54c21-abe2-439f-bc8e-5a43be7c5031",
   "metadata": {},
   "source": [
    "### 3.WAP to remove ith character from given string."
   ]
  },
  {
   "cell_type": "code",
   "execution_count": 24,
   "id": "97bac1f7-f69e-4ab4-9df4-aa392ced129a",
   "metadata": {},
   "outputs": [
    {
     "name": "stdin",
     "output_type": "stream",
     "text": [
      "Enter any string :  dhara\n",
      "Enter index of character you wanna remove :  2\n"
     ]
    },
    {
     "name": "stdout",
     "output_type": "stream",
     "text": [
      "dhra\n"
     ]
    }
   ],
   "source": [
    "s2 = input(\"Enter any string : \")\n",
    "i = int(input(\"Enter index of character you wanna remove : \"))\n",
    "news3 = s2[:i] + s2[i+1:]\n",
    "print(news3)"
   ]
  },
  {
   "cell_type": "markdown",
   "id": "ddf54203-47cb-425c-b118-3318148c2571",
   "metadata": {},
   "source": [
    "### 4. WAP to find length of String without using len function.."
   ]
  },
  {
   "cell_type": "code",
   "execution_count": 36,
   "id": "4c2be11a-7014-4c84-8dff-097f6edeaa25",
   "metadata": {},
   "outputs": [
    {
     "name": "stdin",
     "output_type": "stream",
     "text": [
      "Enter string :  dhara\n"
     ]
    },
    {
     "name": "stdout",
     "output_type": "stream",
     "text": [
      "5\n"
     ]
    }
   ],
   "source": [
    "s4 = input(\"Enter string : \")\n",
    "i=0\n",
    "for char in s4:\n",
    "    i += 1\n",
    "print(i)"
   ]
  },
  {
   "cell_type": "markdown",
   "id": "a90ecdf6-9f21-4b25-ace0-6083c311dddf",
   "metadata": {},
   "source": [
    "### 5. WAP to print even length word in string.\n"
   ]
  },
  {
   "cell_type": "code",
   "execution_count": 30,
   "id": "cb16a8ae-2d76-4e3c-8fac-ce9583e77ecf",
   "metadata": {},
   "outputs": [
    {
     "name": "stdin",
     "output_type": "stream",
     "text": [
      "Enter string :  dhara maru\n"
     ]
    },
    {
     "name": "stdout",
     "output_type": "stream",
     "text": [
      "maru\n"
     ]
    }
   ],
   "source": [
    "s5 = input('Enter string : ')\n",
    "l5 = s5.split(\" \")\n",
    "flag=0\n",
    "for i in l5:\n",
    "    if len(i) % 2 == 0:\n",
    "        print(i)\n",
    "        flag=1\n",
    "if(flag==0):\n",
    "    print(\"not even length word in given string\")"
   ]
  },
  {
   "cell_type": "markdown",
   "id": "e7b02e28-8b48-4644-8451-160e19cc5873",
   "metadata": {},
   "source": [
    "### 6.WAP to count numbers of vowels in given string."
   ]
  },
  {
   "cell_type": "code",
   "execution_count": 32,
   "id": "104f1bb6-0725-4187-aaa2-ce4f9ec6ff81",
   "metadata": {},
   "outputs": [
    {
     "name": "stdin",
     "output_type": "stream",
     "text": [
      "Enter any string :  dhara\n"
     ]
    },
    {
     "name": "stdout",
     "output_type": "stream",
     "text": [
      "2\n"
     ]
    }
   ],
   "source": [
    "s6 = input(\"Enter any string : \")\n",
    "lows6 = s6.lower()\n",
    "count=0\n",
    "for i in s6:\n",
    "    if i=='a' or i=='e' or i=='o' or i=='u' or i=='i':\n",
    "        count = count + 1\n",
    "print(count)"
   ]
  },
  {
   "cell_type": "markdown",
   "id": "940463e7-3ef5-47eb-b206-37822161d9a8",
   "metadata": {},
   "source": [
    "### 7. WAP to convert given array to string."
   ]
  },
  {
   "cell_type": "code",
   "execution_count": 40,
   "id": "7d493bed-10d9-4544-bcd3-ab7b5bfec64f",
   "metadata": {},
   "outputs": [
    {
     "name": "stdout",
     "output_type": "stream",
     "text": [
      "La ilaaha ill allah Mohhammed ar rasoolallah\n"
     ]
    }
   ],
   "source": [
    "l7 = [\"La\", \"ilaaha\", \"ill\", \"allah\", \"Mohhammed\", \"ar\", \"rasoolallah\"]\n",
    "s7 = \",\".join(l7)\n",
    "news7 = s7.replace(',',' ')\n",
    "print(news7)\n"
   ]
  },
  {
   "cell_type": "markdown",
   "id": "d3a91be7-b644-4824-bfb9-463a17ed7455",
   "metadata": {},
   "source": [
    "### 8. Check if the password and confirm password is same or not.\n",
    "### In case of only case's mistake, show the error message."
   ]
  },
  {
   "cell_type": "code",
   "execution_count": 35,
   "id": "c3558dc6-6098-452b-855c-6a4c8db79133",
   "metadata": {},
   "outputs": [
    {
     "name": "stdin",
     "output_type": "stream",
     "text": [
      "Enter password :  dhara\n",
      "Confirm password :  Dhara\n"
     ]
    },
    {
     "name": "stdout",
     "output_type": "stream",
     "text": [
      "Passwords do not match\n"
     ]
    }
   ],
   "source": [
    "password = input(\"Enter password : \")\n",
    "cpwd = input(\"Confirm password : \")\n",
    "if cpwd == password:\n",
    "    print(\"Account Created!\")\n",
    "else:\n",
    "    print(\"Passwords do not match\")"
   ]
  }
 ],
 "metadata": {
  "kernelspec": {
   "display_name": "Python 3 (ipykernel)",
   "language": "python",
   "name": "python3"
  },
  "language_info": {
   "codemirror_mode": {
    "name": "ipython",
    "version": 3
   },
   "file_extension": ".py",
   "mimetype": "text/x-python",
   "name": "python",
   "nbconvert_exporter": "python",
   "pygments_lexer": "ipython3",
   "version": "3.12.7"
  }
 },
 "nbformat": 4,
 "nbformat_minor": 5
}
