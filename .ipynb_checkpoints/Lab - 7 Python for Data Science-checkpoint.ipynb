{
 "cells": [
  {
   "cell_type": "markdown",
   "id": "fd1bc7f2-33b9-4401-b22b-f4008fdb4c71",
   "metadata": {},
   "source": [
    "<a href='https://www.darshan.ac.in/'> <img src='https://www.darshan.ac.in/Content/media/DU_Logo.svg' width=\"150\" height=\"200\"/></a>\n",
    "<pre>\n",
    "<center><b><h2> Python for Data Science - 2305CS303 </b></center>\n",
    "<center><b><h2>Lab - 7</b></center>    \n",
    "<left><b><h3>Roll No. : 111</b></left>  \n",
    "<left><b><h3>Name : Dhara Maru</b></left>   \n",
    "<pre>    "
   ]
  },
  {
   "cell_type": "markdown",
   "id": "4775ea51-e4f7-4bec-9066-34d55f26f638",
   "metadata": {},
   "source": [
    "### 1. WAP to count simple interest using function."
   ]
  },
  {
   "cell_type": "code",
   "execution_count": 1,
   "id": "0c129df0-0199-4a6d-b363-a27435769ab1",
   "metadata": {},
   "outputs": [
    {
     "name": "stdin",
     "output_type": "stream",
     "text": [
      "P:  20000\n",
      "R:  2\n",
      "T:  2\n"
     ]
    },
    {
     "name": "stdout",
     "output_type": "stream",
     "text": [
      "SI: 800.0\n"
     ]
    }
   ],
   "source": [
    "def si(p, r, t):\n",
    "    return (p * r * t) / 100\n",
    "\n",
    "p = float(input(\"P: \"))\n",
    "r = float(input(\"R: \"))\n",
    "t = float(input(\"T: \"))\n",
    "print(\"SI:\", si(p, r, t))\n"
   ]
  },
  {
   "cell_type": "markdown",
   "id": "49ebf22b-cf7b-4d0d-8978-57edc0cda362",
   "metadata": {},
   "source": [
    "### 2. Write a function to calculate BMI given mass and height. (BMI = mass/h**2)"
   ]
  },
  {
   "cell_type": "code",
   "execution_count": 2,
   "id": "e787cf49-effc-4d1b-8546-3ef751701cab",
   "metadata": {},
   "outputs": [
    {
     "name": "stdin",
     "output_type": "stream",
     "text": [
      "Mass (kg):  60\n",
      "Height (m):  234\n"
     ]
    },
    {
     "name": "stdout",
     "output_type": "stream",
     "text": [
      "BMI: 0.0010957703265395574\n"
     ]
    }
   ],
   "source": [
    "def bmi(mass, height):\n",
    "    return mass / (height ** 2)\n",
    "\n",
    "m = float(input(\"Mass (kg): \"))\n",
    "h = float(input(\"Height (m): \"))\n",
    "print(\"BMI:\", bmi(m, h))\n"
   ]
  },
  {
   "cell_type": "markdown",
   "id": "08e8af17-4ef1-4734-8cdf-6f8d0675ff7e",
   "metadata": {},
   "source": [
    "### 3. WAP that defines a function to add first n numbers.\n"
   ]
  },
  {
   "cell_type": "code",
   "execution_count": 3,
   "id": "cdeedbc3-c526-441f-85a9-045360caa446",
   "metadata": {},
   "outputs": [
    {
     "name": "stdin",
     "output_type": "stream",
     "text": [
      "Enter n:  10\n"
     ]
    },
    {
     "name": "stdout",
     "output_type": "stream",
     "text": [
      "Sum: 55\n"
     ]
    }
   ],
   "source": [
    "def add_n(n):\n",
    "    return n * (n + 1) // 2\n",
    "\n",
    "n = int(input(\"Enter n: \"))\n",
    "print(\"Sum:\", add_n(n))\n"
   ]
  },
  {
   "cell_type": "markdown",
   "id": "c2c54c21-abe2-439f-bc8e-5a43be7c5031",
   "metadata": {},
   "source": [
    "### 4. WAP to find maximum number from given two numbers using function."
   ]
  },
  {
   "cell_type": "code",
   "execution_count": 4,
   "id": "97bac1f7-f69e-4ab4-9df4-aa392ced129a",
   "metadata": {},
   "outputs": [
    {
     "name": "stdin",
     "output_type": "stream",
     "text": [
      "First:  44\n",
      "Second:  55\n"
     ]
    },
    {
     "name": "stdout",
     "output_type": "stream",
     "text": [
      "Max: 55\n"
     ]
    }
   ],
   "source": [
    "def max_num(a, b):\n",
    "    return a if a > b else b\n",
    "\n",
    "x = int(input(\"First: \"))\n",
    "y = int(input(\"Second: \"))\n",
    "print(\"Max:\", max_num(x, y))\n"
   ]
  },
  {
   "cell_type": "markdown",
   "id": "29b8c7da-fe08-45eb-9e27-2c47ab1ec26f",
   "metadata": {},
   "source": [
    "### 5. Write a function that returns True if the given string is Palindrome or False otherwise."
   ]
  },
  {
   "cell_type": "code",
   "execution_count": 5,
   "id": "2e4dbdd6-d10b-4d08-9a4a-cb0acee96281",
   "metadata": {},
   "outputs": [
    {
     "name": "stdin",
     "output_type": "stream",
     "text": [
      "Enter string:  aabbaa\n"
     ]
    },
    {
     "name": "stdout",
     "output_type": "stream",
     "text": [
      "True\n"
     ]
    }
   ],
   "source": [
    "def is_palindrome(s):\n",
    "    return s == s[::-1]\n",
    "\n",
    "txt = input(\"Enter string: \")\n",
    "print(is_palindrome(txt))\n"
   ]
  },
  {
   "cell_type": "markdown",
   "id": "b76592c9-38ed-4b92-a0c4-9ed2a833bb53",
   "metadata": {},
   "source": [
    "### 6. Write a function that returns the sum of all the elements of the list."
   ]
  },
  {
   "cell_type": "code",
   "execution_count": 6,
   "id": "d54030cb-ac22-43d1-b7c7-c8494cf59b13",
   "metadata": {},
   "outputs": [
    {
     "name": "stdin",
     "output_type": "stream",
     "text": [
      "Enter numbers:  23 34 56\n"
     ]
    },
    {
     "name": "stdout",
     "output_type": "stream",
     "text": [
      "Sum: 113\n"
     ]
    }
   ],
   "source": [
    "def sum_list(lst):\n",
    "    return sum(lst)\n",
    "\n",
    "nums = list(map(int, input(\"Enter numbers: \").split()))\n",
    "print(\"Sum:\", sum_list(nums))\n"
   ]
  },
  {
   "cell_type": "markdown",
   "id": "ddf54203-47cb-425c-b118-3318148c2571",
   "metadata": {},
   "source": [
    "### 7. WAP that defines a function which returns 1 if the number is prime otherwise return 0."
   ]
  },
  {
   "cell_type": "code",
   "execution_count": 7,
   "id": "75b79085-18d5-41cf-b6f2-fe1c659b5eef",
   "metadata": {},
   "outputs": [
    {
     "name": "stdin",
     "output_type": "stream",
     "text": [
      "Enter number:  13\n"
     ]
    },
    {
     "name": "stdout",
     "output_type": "stream",
     "text": [
      "1\n"
     ]
    }
   ],
   "source": [
    "def is_prime(n):\n",
    "    if n < 2:\n",
    "        return 0\n",
    "    for i in range(2, int(n**0.5) + 1):\n",
    "        if n % i == 0:\n",
    "            return 0\n",
    "    return 1\n",
    "\n",
    "num = int(input(\"Enter number: \"))\n",
    "print(is_prime(num))\n"
   ]
  },
  {
   "cell_type": "markdown",
   "id": "f6a3191f-3348-4ba0-9222-cd560e7a734a",
   "metadata": {},
   "source": [
    "### 8. Write a function that returns the list of Prime numbers between given two numbers."
   ]
  },
  {
   "cell_type": "code",
   "execution_count": 8,
   "id": "ecd23840-7d27-4a0d-8d44-7c6d1fa26b72",
   "metadata": {},
   "outputs": [
    {
     "name": "stdin",
     "output_type": "stream",
     "text": [
      "Start:  10\n",
      "End:  20\n"
     ]
    },
    {
     "name": "stdout",
     "output_type": "stream",
     "text": [
      "Primes: [11, 13, 17, 19]\n"
     ]
    }
   ],
   "source": [
    "def prime_range(a, b):\n",
    "    return [x for x in range(a, b+1) if is_prime(x)]\n",
    "\n",
    "def is_prime(n):\n",
    "    if n < 2:\n",
    "        return 0\n",
    "    for i in range(2, int(n**0.5) + 1):\n",
    "        if n % i == 0:\n",
    "            return 0\n",
    "    return 1\n",
    "\n",
    "start = int(input(\"Start: \"))\n",
    "end = int(input(\"End: \"))\n",
    "print(\"Primes:\", prime_range(start, end))\n"
   ]
  },
  {
   "cell_type": "markdown",
   "id": "a90ecdf6-9f21-4b25-ace0-6083c311dddf",
   "metadata": {},
   "source": [
    "### 9. WAP to generate Fibonacci series of N given number using function name fibbo. (e.g. 0 1 1 2 3 5 8...).\n"
   ]
  },
  {
   "cell_type": "code",
   "execution_count": 9,
   "id": "cb16a8ae-2d76-4e3c-8fac-ce9583e77ecf",
   "metadata": {},
   "outputs": [
    {
     "name": "stdin",
     "output_type": "stream",
     "text": [
      "Enter N:  10\n"
     ]
    },
    {
     "name": "stdout",
     "output_type": "stream",
     "text": [
      "0 1 1 2 3 5 8 13 21 34 "
     ]
    }
   ],
   "source": [
    "def fibbo(n):\n",
    "    a, b = 0, 1\n",
    "    for _ in range(n):\n",
    "        print(a, end=' ')\n",
    "        a, b = b, a + b\n",
    "\n",
    "num = int(input(\"Enter N: \"))\n",
    "fibbo(num)\n"
   ]
  },
  {
   "cell_type": "markdown",
   "id": "e7b02e28-8b48-4644-8451-160e19cc5873",
   "metadata": {},
   "source": [
    "### 10. WAP to find the factorial of a given number using recursion."
   ]
  },
  {
   "cell_type": "code",
   "execution_count": 10,
   "id": "104f1bb6-0725-4187-aaa2-ce4f9ec6ff81",
   "metadata": {},
   "outputs": [
    {
     "name": "stdin",
     "output_type": "stream",
     "text": [
      "Enter number:  5\n"
     ]
    },
    {
     "name": "stdout",
     "output_type": "stream",
     "text": [
      "Factorial: 120\n"
     ]
    }
   ],
   "source": [
    "def fact(n):\n",
    "    if n == 0 or n == 1:\n",
    "        return 1\n",
    "    return n * fact(n - 1)\n",
    "\n",
    "num = int(input(\"Enter number: \"))\n",
    "print(\"Factorial:\", fact(num))\n"
   ]
  },
  {
   "cell_type": "markdown",
   "id": "940463e7-3ef5-47eb-b206-37822161d9a8",
   "metadata": {},
   "source": [
    "### 11. WAP to implement simple calculator using lamda function."
   ]
  },
  {
   "cell_type": "code",
   "execution_count": 11,
   "id": "7d493bed-10d9-4544-bcd3-ab7b5bfec64f",
   "metadata": {},
   "outputs": [
    {
     "name": "stdin",
     "output_type": "stream",
     "text": [
      "First:  23\n",
      "Second:  34\n",
      "Op (+ - * /):  +\n"
     ]
    },
    {
     "name": "stdout",
     "output_type": "stream",
     "text": [
      "Result: 57.0\n"
     ]
    }
   ],
   "source": [
    "add = lambda a, b: a + b\n",
    "sub = lambda a, b: a - b\n",
    "mul = lambda a, b: a * b\n",
    "div = lambda a, b: a / b if b != 0 else 'Error'\n",
    "\n",
    "a = float(input(\"First: \"))\n",
    "b = float(input(\"Second: \"))\n",
    "op = input(\"Op (+ - * /): \")\n",
    "\n",
    "calc = {'+': add, '-': sub, '*': mul, '/': div}\n",
    "print(\"Result:\", calc[op](a, b) if op in calc else \"Invalid op\")\n"
   ]
  }
 ],
 "metadata": {
  "kernelspec": {
   "display_name": "Python 3 (ipykernel)",
   "language": "python",
   "name": "python3"
  },
  "language_info": {
   "codemirror_mode": {
    "name": "ipython",
    "version": 3
   },
   "file_extension": ".py",
   "mimetype": "text/x-python",
   "name": "python",
   "nbconvert_exporter": "python",
   "pygments_lexer": "ipython3",
   "version": "3.12.7"
  }
 },
 "nbformat": 4,
 "nbformat_minor": 5
}
