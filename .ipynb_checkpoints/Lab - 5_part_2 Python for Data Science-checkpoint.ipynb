{
 "cells": [
  {
   "cell_type": "markdown",
   "id": "fd1bc7f2-33b9-4401-b22b-f4008fdb4c71",
   "metadata": {},
   "source": [
    "<a href='https://www.darshan.ac.in/'> <img src='https://www.darshan.ac.in/Content/media/DU_Logo.svg' width=\"150\" height=\"200\"/></a>\n",
    "<pre>\n",
    "<center><b><h2> Python for Data Science - 2305CS303 </b></center>\n",
    "<center><b><h2>Lab - 5 Part-2</b></center>    \n",
    "<left><b><h3>Roll No. : 111</b></left>  \n",
    "<left><b><h3>Name : Dhara Maru</b></left>   \n",
    "<pre>    "
   ]
  },
  {
   "cell_type": "markdown",
   "id": "4775ea51-e4f7-4bec-9066-34d55f26f638",
   "metadata": {},
   "source": [
    "### 1. WAP to create a list of squared numbers from 0 to 9 with and without using List Comprehension."
   ]
  },
  {
   "cell_type": "code",
   "execution_count": 3,
   "id": "0c129df0-0199-4a6d-b363-a27435769ab1",
   "metadata": {},
   "outputs": [
    {
     "name": "stdout",
     "output_type": "stream",
     "text": [
      "[0, 1, 4, 9, 16, 25, 36, 49, 64, 81]\n",
      "[0, 1, 4, 9, 16, 25, 36, 49, 64, 81]\n"
     ]
    }
   ],
   "source": [
    "# With Comprehension\n",
    "l1 = [i*i for i in range(10)]\n",
    "print(l1)\n",
    "\n",
    "#Wihtout comprehension\n",
    "li1 = []\n",
    "for i in range(10):\n",
    "    li1.append(i*i)\n",
    "print(li1)"
   ]
  },
  {
   "cell_type": "markdown",
   "id": "08e8af17-4ef1-4734-8cdf-6f8d0675ff7e",
   "metadata": {},
   "source": [
    "### 2. WAP to find Maximum and Minimum K elements in a given tuple.\n"
   ]
  },
  {
   "cell_type": "code",
   "execution_count": 4,
   "id": "cdeedbc3-c526-441f-85a9-045360caa446",
   "metadata": {},
   "outputs": [
    {
     "name": "stdout",
     "output_type": "stream",
     "text": [
      "Min K: [1, 3, 4]\n",
      "Max K: [5, 7, 9]\n"
     ]
    }
   ],
   "source": [
    "t = (5, 1, 9, 4, 7, 3)\n",
    "k = 3\n",
    "sorted_t = sorted(t)\n",
    "mink = sorted_t[:k]\n",
    "maxk = sorted_t[-k:]\n",
    "print(\"Min K:\", mink)\n",
    "print(\"Max K:\", maxk)"
   ]
  },
  {
   "cell_type": "markdown",
   "id": "c2c54c21-abe2-439f-bc8e-5a43be7c5031",
   "metadata": {},
   "source": [
    "### 3. WAP to find tuples which have all elements divisible by K from a list of tuples."
   ]
  },
  {
   "cell_type": "code",
   "execution_count": 5,
   "id": "97bac1f7-f69e-4ab4-9df4-aa392ced129a",
   "metadata": {},
   "outputs": [
    {
     "name": "stdout",
     "output_type": "stream",
     "text": [
      "[(10, 20), (15, 25), (30, 60)]\n"
     ]
    }
   ],
   "source": [
    "data = [(10, 20), (15, 25), (30, 60), (12, 18)]\n",
    "k = 5\n",
    "result = []\n",
    "for tup in data:\n",
    "    if all(x % k == 0 for x in tup):\n",
    "        result.append(tup)\n",
    "print(result)"
   ]
  },
  {
   "cell_type": "markdown",
   "id": "ddf54203-47cb-425c-b118-3318148c2571",
   "metadata": {},
   "source": [
    "### 4. WAP to create a list of tuples from given list having number and its cube in each tuple."
   ]
  },
  {
   "cell_type": "code",
   "execution_count": 7,
   "id": "4c2be11a-7014-4c84-8dff-097f6edeaa25",
   "metadata": {},
   "outputs": [
    {
     "name": "stdout",
     "output_type": "stream",
     "text": [
      "[(1, 1), (2, 8), (3, 27), (4, 64), (5, 125)]\n"
     ]
    }
   ],
   "source": [
    "l4 = [1, 2, 3, 4, 5]\n",
    "l5 = []\n",
    "for i in l4:\n",
    "    l5.append((i, i**3))\n",
    "print(l5)\n"
   ]
  },
  {
   "cell_type": "markdown",
   "id": "a90ecdf6-9f21-4b25-ace0-6083c311dddf",
   "metadata": {},
   "source": [
    "### 5. WAP to remove tuples of length K.\n"
   ]
  },
  {
   "cell_type": "code",
   "execution_count": 8,
   "id": "cb16a8ae-2d76-4e3c-8fac-ce9583e77ecf",
   "metadata": {},
   "outputs": [
    {
     "name": "stdout",
     "output_type": "stream",
     "text": [
      "[(3, 4, 5), (6,)]\n"
     ]
    }
   ],
   "source": [
    "l1 = [(1, 2), (3, 4, 5), (6,), (7, 8)]\n",
    "k = 2\n",
    "l2 = []\n",
    "for i in l1:\n",
    "    if len(i) != k:\n",
    "        l2.append(i)\n",
    "print(l2)\n"
   ]
  }
 ],
 "metadata": {
  "kernelspec": {
   "display_name": "Python 3 (ipykernel)",
   "language": "python",
   "name": "python3"
  },
  "language_info": {
   "codemirror_mode": {
    "name": "ipython",
    "version": 3
   },
   "file_extension": ".py",
   "mimetype": "text/x-python",
   "name": "python",
   "nbconvert_exporter": "python",
   "pygments_lexer": "ipython3",
   "version": "3.12.7"
  }
 },
 "nbformat": 4,
 "nbformat_minor": 5
}
