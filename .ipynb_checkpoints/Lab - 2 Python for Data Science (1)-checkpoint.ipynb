{
 "cells": [
  {
   "cell_type": "markdown",
   "id": "fd1bc7f2-33b9-4401-b22b-f4008fdb4c71",
   "metadata": {},
   "source": [
    "## <a href='https://www.darshan.ac.in/'> <img src='https://www.darshan.ac.in/Content/media/DU_Logo.svg' width=\"150\" height=\"200\"/></a>\n",
    "<pre>\n",
    "<center><b><h2> Python for Data Science - 2305CS303 </b></center>\n",
    "<center><b><h2>Lab - 2</b></center>    \n",
    "<left><b><h3>Roll No. : 111</b></left>  \n",
    "<left><b><h3>Name : Dhara Maru</b></left>   \n",
    "<pre>    "
   ]
  },
  {
   "cell_type": "markdown",
   "id": "4775ea51-e4f7-4bec-9066-34d55f26f638",
   "metadata": {},
   "source": [
    "### 1. WAP to check whether the given number is Positive or Negative."
   ]
  },
  {
   "cell_type": "code",
   "execution_count": 3,
   "id": "0c129df0-0199-4a6d-b363-a27435769ab1",
   "metadata": {},
   "outputs": [
    {
     "name": "stdin",
     "output_type": "stream",
     "text": [
      "Enter any number :  34\n"
     ]
    },
    {
     "name": "stdout",
     "output_type": "stream",
     "text": [
      "Positive\n"
     ]
    }
   ],
   "source": [
    "n = int(input(\"Enter any number : \"))\n",
    "if n < 0:\n",
    "    print(\"Number is negative\")\n",
    "else:\n",
    "    print(\"Positive\")\n"
   ]
  },
  {
   "cell_type": "markdown",
   "id": "08e8af17-4ef1-4734-8cdf-6f8d0675ff7e",
   "metadata": {},
   "source": [
    "### 2. WAP to check whether the given number is Odd or Even."
   ]
  },
  {
   "cell_type": "code",
   "execution_count": 7,
   "id": "cdeedbc3-c526-441f-85a9-045360caa446",
   "metadata": {},
   "outputs": [
    {
     "name": "stdin",
     "output_type": "stream",
     "text": [
      "Enter any number :  1\n"
     ]
    },
    {
     "name": "stdout",
     "output_type": "stream",
     "text": [
      "odd\n"
     ]
    }
   ],
   "source": [
    "n = int(input(\"Enter any number : \"))\n",
    "if n % 2== 0:\n",
    "    print(\"Number is even\")\n",
    "else:\n",
    "    print(\"odd\")"
   ]
  },
  {
   "cell_type": "markdown",
   "id": "c2c54c21-abe2-439f-bc8e-5a43be7c5031",
   "metadata": {},
   "source": [
    "### 3. WAP to find out Largest number from given two numbers using simple if and ternary operator."
   ]
  },
  {
   "cell_type": "code",
   "execution_count": 9,
   "id": "97bac1f7-f69e-4ab4-9df4-aa392ced129a",
   "metadata": {},
   "outputs": [
    {
     "name": "stdin",
     "output_type": "stream",
     "text": [
      "Enter number 1 :  20\n",
      "Enter number 2 :  22\n"
     ]
    },
    {
     "name": "stdout",
     "output_type": "stream",
     "text": [
      "22  is greater\n",
      "22  is greater\n"
     ]
    }
   ],
   "source": [
    "a = int(input(\"Enter number 1 : \"))\n",
    "b = int(input(\"Enter number 2 : \"))\n",
    "#using simple if\n",
    "if a > b:\n",
    "    print(a ,\" is greater\")\n",
    "else:\n",
    "    print(b ,\" is greater\")\n",
    "    \n",
    "#using ternary operator\n",
    "ans = a if a > b else b\n",
    "print(ans, \" is greater\")\n"
   ]
  },
  {
   "cell_type": "markdown",
   "id": "ddf54203-47cb-425c-b118-3318148c2571",
   "metadata": {},
   "source": [
    "### 4. WAP to find out Largest number from given three numbers."
   ]
  },
  {
   "cell_type": "code",
   "execution_count": 11,
   "id": "4c2be11a-7014-4c84-8dff-097f6edeaa25",
   "metadata": {},
   "outputs": [
    {
     "name": "stdin",
     "output_type": "stream",
     "text": [
      "Enter number 1 :  23\n",
      "Enter number 2 :  1\n",
      "Enter number 3 :  33\n"
     ]
    },
    {
     "name": "stdout",
     "output_type": "stream",
     "text": [
      "33  is greater\n"
     ]
    }
   ],
   "source": [
    "a = int(input(\"Enter number 1 : \"))\n",
    "b = int(input(\"Enter number 2 : \"))\n",
    "c = int(input(\"Enter number 3 : \"))\n",
    "if a > b and a > c:\n",
    "    print(a, \" is greater\")\n",
    "elif b > c:\n",
    "    print(b, \" is greater\")\n",
    "else:\n",
    "    print(c, \" is greater\")\n",
    "    "
   ]
  },
  {
   "cell_type": "markdown",
   "id": "a90ecdf6-9f21-4b25-ace0-6083c311dddf",
   "metadata": {},
   "source": [
    "### 5. WAP to check whether the given year is Leap year or not. \n",
    "#### [If a year can be divisible by 4 but not divisible by 100 then it is leap year but if it is divisible by 400 then it is leap year]."
   ]
  },
  {
   "cell_type": "code",
   "execution_count": 15,
   "id": "cb16a8ae-2d76-4e3c-8fac-ce9583e77ecf",
   "metadata": {},
   "outputs": [
    {
     "name": "stdin",
     "output_type": "stream",
     "text": [
      "Enter any year :  2000\n"
     ]
    },
    {
     "name": "stdout",
     "output_type": "stream",
     "text": [
      "2000  is a leap year\n"
     ]
    }
   ],
   "source": [
    "y = int(input(\"Enter any year : \"))\n",
    "if y % 4 == 0 and y % 100 != 0 or y % 400 == 0:\n",
    "    print(y,\" is a leap year\")\n",
    "else:\n",
    "    print(y,\" is a Not leap year\")"
   ]
  },
  {
   "cell_type": "markdown",
   "id": "e7b02e28-8b48-4644-8451-160e19cc5873",
   "metadata": {},
   "source": [
    "### 6. WAP to display the name of the Day according to the number given by the user."
   ]
  },
  {
   "cell_type": "code",
   "execution_count": 18,
   "id": "104f1bb6-0725-4187-aaa2-ce4f9ec6ff81",
   "metadata": {},
   "outputs": [
    {
     "name": "stdin",
     "output_type": "stream",
     "text": [
      "Enter any day number :  4\n"
     ]
    },
    {
     "name": "stdout",
     "output_type": "stream",
     "text": [
      "Thursday\n"
     ]
    }
   ],
   "source": [
    "d = int(input(\"Enter any day number : \"))\n",
    "match d:\n",
    "    case 1:\n",
    "        print(\"Monday\")\n",
    "    case 2:\n",
    "        print(\"Tuesday\")\n",
    "    case 3:\n",
    "        print(\"Wednesday\")\n",
    "    case 4:\n",
    "        print(\"Thursday\")\n",
    "    case 5:\n",
    "        print(\"Friday\")\n",
    "    case 6:\n",
    "        print(\"Saturday\")\n",
    "    case 7:\n",
    "        print(\"Sunday\")\n",
    "    case _:\n",
    "        print(\"Enter valid day\")\n"
   ]
  },
  {
   "cell_type": "markdown",
   "id": "940463e7-3ef5-47eb-b206-37822161d9a8",
   "metadata": {},
   "source": [
    "### 7. WAP to implement simple Calculator which performs (add,sub,mul,div) of two numbers based on user input."
   ]
  },
  {
   "cell_type": "code",
   "execution_count": 20,
   "id": "66a437b6-6f74-4846-98b0-112ccb17aea4",
   "metadata": {},
   "outputs": [
    {
     "name": "stdin",
     "output_type": "stream",
     "text": [
      "Enter number 1 : 10\n",
      "Enter number 2 : 20\n",
      "Enter Operator :  +\n"
     ]
    },
    {
     "name": "stdout",
     "output_type": "stream",
     "text": [
      "30\n"
     ]
    }
   ],
   "source": [
    "a = int(input(\"Enter number 1 :\"))\n",
    "b = int(input(\"Enter number 2 :\"))\n",
    "op = input(\"Enter Operator : \")\n",
    "\n",
    "match op:\n",
    "    case '+':\n",
    "        print(a+b)\n",
    "    case '-':\n",
    "        print(a-b)\n",
    "    case '*':\n",
    "        print(a*b)\n",
    "    case '/':\n",
    "        print(a/b)\n",
    "    case '%':\n",
    "        print(a%b)\n",
    "    case _:\n",
    "        print(\"Enter valid operator\")\n"
   ]
  },
  {
   "cell_type": "markdown",
   "id": "2824cbbc-1ba4-4956-bbea-6457a58e97cf",
   "metadata": {},
   "source": [
    "### 8. WAP to calculate electricity bill based on following criteria. Which takes the unit from the user.\n",
    "#### \t  -First 1 to 50 units – Rs. 2.60/unit\n",
    "#### \t  -Next 50 to 100 units – Rs. 3.25/unit\n",
    "#### \t  -Next 100 to 200 units – Rs. 5.26/unit\n",
    "####\t  -200 units – Rs. 8.45/unit"
   ]
  },
  {
   "cell_type": "code",
   "execution_count": 24,
   "id": "38388940-a742-4cd0-8d6e-67d31838cd4a",
   "metadata": {},
   "outputs": [
    {
     "name": "stdin",
     "output_type": "stream",
     "text": [
      "Enter units : 200\n"
     ]
    },
    {
     "name": "stdout",
     "output_type": "stream",
     "text": [
      "818.5\n"
     ]
    }
   ],
   "source": [
    "u = int(input(\"Enter units :\"))\n",
    "if u < 50:\n",
    "    print(u*2.60)\n",
    "elif u < 100:\n",
    "    rem = u-50\n",
    "    res = (50*2.60) + (rem*3.25)\n",
    "    print(res)\n",
    "elif u < 200:\n",
    "    rem = u-100\n",
    "    res = (50*2.60) + (50*3.25) + (rem*5.26)\n",
    "    print(res)\n",
    "else:\n",
    "    rem = u-200\n",
    "    res = (50*2.60) + (50*3.25) + (100*5.26) + (rem*8.45)\n",
    "    print(res)"
   ]
  },
  {
   "cell_type": "markdown",
   "id": "bc7bfaf7-fc2d-4d91-9606-451f291c81d9",
   "metadata": {},
   "source": [
    "### 9. WAP to find second largest number from the given three numbers."
   ]
  },
  {
   "cell_type": "code",
   "execution_count": null,
   "id": "6a8fe989-ca3a-48cc-8b25-68108d3e2de0",
   "metadata": {},
   "outputs": [],
   "source": [
    "a = int(input(\"Enter a : \"))\n",
    "b = int(input(\"Enter b : \"))\n",
    "c = int(input(\"Enter c : \"))\n",
    "\n",
    "if (a > b and a < c) or (a > c and a < b):\n",
    "    second_largest = a\n",
    "elif (b > a and b < c) or (b > c and b < a):\n",
    "    second_largest = b\n",
    "else:\n",
    "    second_largest = c\n",
    "\n",
    "print(\"Second largest:\", second_largest)\n"
   ]
  },
  {
   "cell_type": "markdown",
   "id": "aef03176-0eff-49a0-bdd2-2b551d93ef80",
   "metadata": {},
   "source": [
    "### 10. Student marks class"
   ]
  },
  {
   "cell_type": "code",
   "execution_count": 29,
   "id": "200a6036-8c21-4a02-a29f-2e54409d2972",
   "metadata": {},
   "outputs": [
    {
     "name": "stdin",
     "output_type": "stream",
     "text": [
      "Enter m1 :  12\n",
      "Enter m2 :  34\n",
      "Enter m3 :  56\n",
      "Enter m4 :  45\n",
      "Enter m5 :  34\n"
     ]
    },
    {
     "name": "stdout",
     "output_type": "stream",
     "text": [
      "Pass class\n"
     ]
    }
   ],
   "source": [
    "m1 = int(input(\"Enter m1 : \"))\n",
    "m2 = int(input(\"Enter m2 : \"))\n",
    "m3 = int(input(\"Enter m3 : \"))\n",
    "m4 = int(input(\"Enter m4 : \"))\n",
    "m5 = int(input(\"Enter m5 : \"))\n",
    "total = m1+m2+m3+m4+m5;\n",
    "pr = (total / 500) * 100\n",
    "\n",
    "print(\"Total : \",total)\n",
    "print(\"Percentage : \",pr)\n",
    "\n",
    "if pr < 33:\n",
    "    print(\"failed\")\n",
    "elif pr >33 and pr <= 50:\n",
    "    print(\"Pass class\")\n",
    "elif pr >50 and pr <= 70:\n",
    "    print(\"Second class\")\n",
    "elif pr >70 and pr <= 90:\n",
    "    print(\"First class\")\n",
    "elif pr>90:\n",
    "    print(\"Dsitinction\")\n",
    "else:\n",
    "    print(\"Not valid\")"
   ]
  }
 ],
 "metadata": {
  "kernelspec": {
   "display_name": "Python 3 (ipykernel)",
   "language": "python",
   "name": "python3"
  },
  "language_info": {
   "codemirror_mode": {
    "name": "ipython",
    "version": 3
   },
   "file_extension": ".py",
   "mimetype": "text/x-python",
   "name": "python",
   "nbconvert_exporter": "python",
   "pygments_lexer": "ipython3",
   "version": "3.12.4"
  }
 },
 "nbformat": 4,
 "nbformat_minor": 5
}
