{
 "cells": [
  {
   "cell_type": "code",
   "execution_count": 4,
   "id": "c8462694-d18b-4784-b5fe-a812ae61909c",
   "metadata": {},
   "outputs": [
    {
     "data": {
      "text/plain": [
       "6"
      ]
     },
     "execution_count": 4,
     "metadata": {},
     "output_type": "execute_result"
    }
   ],
   "source": [
    "s = \"Bhavesh Joshi The SuperHero\"\n",
    "s.find('h')\n",
    "s.find('Hetvi')\n",
    "s.find('h',3)"
   ]
  },
  {
   "cell_type": "code",
   "execution_count": 5,
   "id": "8530c700-9573-459d-b537-ef4ff77e1e14",
   "metadata": {},
   "outputs": [
    {
     "data": {
      "text/plain": [
       "26"
      ]
     },
     "execution_count": 5,
     "metadata": {},
     "output_type": "execute_result"
    }
   ],
   "source": [
    "s.rfind('o',4)"
   ]
  },
  {
   "cell_type": "code",
   "execution_count": 7,
   "id": "41dd7cf6-a090-4885-859a-1eafbb1a3575",
   "metadata": {},
   "outputs": [
    {
     "data": {
      "text/plain": [
       "2"
      ]
     },
     "execution_count": 7,
     "metadata": {},
     "output_type": "execute_result"
    }
   ],
   "source": [
    "s.count('o')"
   ]
  },
  {
   "cell_type": "code",
   "execution_count": 9,
   "id": "2be60818-017b-4d1a-a614-bbbf07f4063c",
   "metadata": {},
   "outputs": [
    {
     "data": {
      "text/plain": [
       "'Bhavesh Joshi The SuperHero!!!!!!!!!!!!!'"
      ]
     },
     "execution_count": 9,
     "metadata": {},
     "output_type": "execute_result"
    }
   ],
   "source": [
    "s.ljust(40, '!')"
   ]
  },
  {
   "cell_type": "code",
   "execution_count": 10,
   "id": "374b2829-075a-436b-a36a-72357a3e7591",
   "metadata": {},
   "outputs": [
    {
     "data": {
      "text/plain": [
       "'~~~~~~~~~~~~~Bhavesh Joshi The SuperHero'"
      ]
     },
     "execution_count": 10,
     "metadata": {},
     "output_type": "execute_result"
    }
   ],
   "source": [
    "s.rjust(40, '~')"
   ]
  },
  {
   "cell_type": "code",
   "execution_count": 11,
   "id": "3056776e-82d7-4ab2-be3d-cf9ee9c962ed",
   "metadata": {},
   "outputs": [
    {
     "data": {
      "text/plain": [
       "'......Bhavesh Joshi The SuperHero.......'"
      ]
     },
     "execution_count": 11,
     "metadata": {},
     "output_type": "execute_result"
    }
   ],
   "source": [
    "s.center(40,'.')"
   ]
  },
  {
   "cell_type": "code",
   "execution_count": 12,
   "id": "e02c1916-0f40-42d7-8c74-62a02b906803",
   "metadata": {},
   "outputs": [
    {
     "data": {
      "text/plain": [
       "'0000000000000Bhavesh Joshi The SuperHero'"
      ]
     },
     "execution_count": 12,
     "metadata": {},
     "output_type": "execute_result"
    }
   ],
   "source": [
    "s.zfill(40)"
   ]
  },
  {
   "cell_type": "code",
   "execution_count": 14,
   "id": "771f597a-917c-4676-9087-54256f99109c",
   "metadata": {},
   "outputs": [
    {
     "data": {
      "text/plain": [
       "'Skibidi'"
      ]
     },
     "execution_count": 14,
     "metadata": {},
     "output_type": "execute_result"
    }
   ],
   "source": [
    "s2 = \"       Skibidi       \"\n",
    "s2.lstrip()"
   ]
  },
  {
   "cell_type": "code",
   "execution_count": 15,
   "id": "cc346a17-2879-4983-b5a8-4793b7533c57",
   "metadata": {},
   "outputs": [
    {
     "data": {
      "text/plain": [
       "'       Skibidi'"
      ]
     },
     "execution_count": 15,
     "metadata": {},
     "output_type": "execute_result"
    }
   ],
   "source": [
    "s2.rstrip()"
   ]
  },
  {
   "cell_type": "code",
   "execution_count": 16,
   "id": "5c5c6489-3a73-44f9-81c6-3d03760368f2",
   "metadata": {},
   "outputs": [
    {
     "data": {
      "text/plain": [
       "'Skibidi'"
      ]
     },
     "execution_count": 16,
     "metadata": {},
     "output_type": "execute_result"
    }
   ],
   "source": [
    "s2.strip()"
   ]
  },
  {
   "cell_type": "code",
   "execution_count": 17,
   "id": "5db8ac5c-4d65-41de-8acf-6606747d3575",
   "metadata": {},
   "outputs": [
    {
     "data": {
      "text/plain": [
       "'skibidi%$ '"
      ]
     },
     "execution_count": 17,
     "metadata": {},
     "output_type": "execute_result"
    }
   ],
   "source": [
    "s3 = \"#@~*skibidi%$ \"\n",
    "s3.strip('#$@*%~')"
   ]
  },
  {
   "cell_type": "code",
   "execution_count": 21,
   "id": "15f7264c-0871-4c44-9c93-d4bc9a39a488",
   "metadata": {},
   "outputs": [
    {
     "data": {
      "text/plain": [
       "'Bhavesh Joshi  SuperHero'"
      ]
     },
     "execution_count": 21,
     "metadata": {},
     "output_type": "execute_result"
    }
   ],
   "source": [
    "s.replace('B','K')\n",
    "s.replace('The','')"
   ]
  },
  {
   "cell_type": "code",
   "execution_count": 22,
   "id": "3bff8d64-3fd1-4235-a449-f0940e49dd21",
   "metadata": {},
   "outputs": [
    {
     "data": {
      "text/plain": [
       "'Malad ka unemployed superhero'"
      ]
     },
     "execution_count": 22,
     "metadata": {},
     "output_type": "execute_result"
    }
   ],
   "source": [
    "li = ['Malad','ka','unemployed','superhero']\n",
    "\" \".join(li)"
   ]
  },
  {
   "cell_type": "code",
   "execution_count": 25,
   "id": "0be3c2ec-e73c-403c-9c96-b0fd51732b8f",
   "metadata": {},
   "outputs": [
    {
     "data": {
      "text/plain": [
       "['Bhavesh', 'Joshi', 'The SuperHero']"
      ]
     },
     "execution_count": 25,
     "metadata": {},
     "output_type": "execute_result"
    }
   ],
   "source": [
    "s.split()\n",
    "s.split(' ',2)"
   ]
  },
  {
   "cell_type": "code",
   "execution_count": 26,
   "id": "042fae16-57ea-4d28-85d9-260b5dbcfb25",
   "metadata": {},
   "outputs": [
    {
     "data": {
      "text/plain": [
       "['Bhavesh', 'Joshi', 'The', 'SuperHero']"
      ]
     },
     "execution_count": 26,
     "metadata": {},
     "output_type": "execute_result"
    }
   ],
   "source": [
    "s.rsplit()"
   ]
  },
  {
   "cell_type": "code",
   "execution_count": 28,
   "id": "ed18a426-5a25-4b1e-aab8-1a711abd87f0",
   "metadata": {},
   "outputs": [
    {
     "data": {
      "text/plain": [
       "['Hello\\n', 'how are\\n', 'khana khake jana ho']"
      ]
     },
     "execution_count": 28,
     "metadata": {},
     "output_type": "execute_result"
    }
   ],
   "source": [
    "snew = '''Hello\n",
    "how are\n",
    "khana khake jana ho'''\n",
    "snew.splitlines()\n",
    "snew.splitlines(keepends=True)"
   ]
  },
  {
   "cell_type": "code",
   "execution_count": null,
   "id": "b3d978bf-5b4c-486a-963a-2360bb786b41",
   "metadata": {},
   "outputs": [],
   "source": []
  }
 ],
 "metadata": {
  "kernelspec": {
   "display_name": "Python 3 (ipykernel)",
   "language": "python",
   "name": "python3"
  },
  "language_info": {
   "codemirror_mode": {
    "name": "ipython",
    "version": 3
   },
   "file_extension": ".py",
   "mimetype": "text/x-python",
   "name": "python",
   "nbconvert_exporter": "python",
   "pygments_lexer": "ipython3",
   "version": "3.12.7"
  }
 },
 "nbformat": 4,
 "nbformat_minor": 5
}
