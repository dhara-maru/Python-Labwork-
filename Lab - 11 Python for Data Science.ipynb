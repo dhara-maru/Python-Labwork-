{
 "cells": [
  {
   "cell_type": "markdown",
   "id": "fd1bc7f2-33b9-4401-b22b-f4008fdb4c71",
   "metadata": {},
   "source": [
    "<a href='https://www.darshan.ac.in/'> <img src='https://www.darshan.ac.in/Content/media/DU_Logo.svg' width=\"150\" height=\"200\"/></a>\n",
    "<pre>\n",
    "<center><b><h2> Python for Data Science - 2305CS303 </b></center>\n",
    "<center><b><h2>Lab - 11</b></center>    \n",
    "<left><b><h3>Roll No. : 111</b></left>  \n",
    "<left><b><h3>Name : Dhara Maru</b></left>   \n",
    "<pre>    "
   ]
  },
  {
   "cell_type": "markdown",
   "id": "601b2eba-0bdb-49e4-a43b-5bf3ee67b53f",
   "metadata": {},
   "source": [
    "## GroupBy"
   ]
  },
  {
   "cell_type": "code",
   "execution_count": 5,
   "id": "f4901b6e-ba7b-452c-892a-3d8627a213ed",
   "metadata": {},
   "outputs": [],
   "source": [
    "import pandas as pd"
   ]
  },
  {
   "cell_type": "code",
   "execution_count": 6,
   "id": "00775a57-4276-4634-a5b1-ad7281997d30",
   "metadata": {},
   "outputs": [],
   "source": [
    "students = {\n",
    "    'RollNo': [101, 102, 103, 104, 105, 106],\n",
    "    'Name': ['Aarav', 'Diya', 'Ishaan', 'Meera', 'Kabir', 'Anaya'],\n",
    "    'Dept': ['CSE', 'CSE', 'ECE', 'ECE', 'ME', 'CSE'],\n",
    "    'Math': [88, 92, None, 74, 69, 85],\n",
    "    'Science': [91, None, 78, 84, 76, 89],\n",
    "    'English': [85, 87, 80, None, 74, 90]\n",
    "}"
   ]
  },
  {
   "cell_type": "markdown",
   "id": "4775ea51-e4f7-4bec-9066-34d55f26f638",
   "metadata": {},
   "source": [
    "### 1. Group students by Dept and find the average marks in each subject."
   ]
  },
  {
   "cell_type": "code",
   "execution_count": 9,
   "id": "f3348c12-2e29-4f37-8554-406cbe7c383c",
   "metadata": {},
   "outputs": [],
   "source": [
    "df = pd.DataFrame(students)"
   ]
  },
  {
   "cell_type": "code",
   "execution_count": 10,
   "id": "ef6095ee-17bb-431d-9213-1c2daaec77d9",
   "metadata": {},
   "outputs": [
    {
     "data": {
      "text/html": [
       "<div>\n",
       "<style scoped>\n",
       "    .dataframe tbody tr th:only-of-type {\n",
       "        vertical-align: middle;\n",
       "    }\n",
       "\n",
       "    .dataframe tbody tr th {\n",
       "        vertical-align: top;\n",
       "    }\n",
       "\n",
       "    .dataframe thead th {\n",
       "        text-align: right;\n",
       "    }\n",
       "</style>\n",
       "<table border=\"1\" class=\"dataframe\">\n",
       "  <thead>\n",
       "    <tr style=\"text-align: right;\">\n",
       "      <th></th>\n",
       "      <th>Math</th>\n",
       "      <th>Science</th>\n",
       "      <th>English</th>\n",
       "    </tr>\n",
       "    <tr>\n",
       "      <th>Dept</th>\n",
       "      <th></th>\n",
       "      <th></th>\n",
       "      <th></th>\n",
       "    </tr>\n",
       "  </thead>\n",
       "  <tbody>\n",
       "    <tr>\n",
       "      <th>CSE</th>\n",
       "      <td>88.333333</td>\n",
       "      <td>90.0</td>\n",
       "      <td>87.333333</td>\n",
       "    </tr>\n",
       "    <tr>\n",
       "      <th>ECE</th>\n",
       "      <td>74.000000</td>\n",
       "      <td>81.0</td>\n",
       "      <td>80.000000</td>\n",
       "    </tr>\n",
       "    <tr>\n",
       "      <th>ME</th>\n",
       "      <td>69.000000</td>\n",
       "      <td>76.0</td>\n",
       "      <td>74.000000</td>\n",
       "    </tr>\n",
       "  </tbody>\n",
       "</table>\n",
       "</div>"
      ],
      "text/plain": [
       "           Math  Science    English\n",
       "Dept                               \n",
       "CSE   88.333333     90.0  87.333333\n",
       "ECE   74.000000     81.0  80.000000\n",
       "ME    69.000000     76.0  74.000000"
      ]
     },
     "execution_count": 10,
     "metadata": {},
     "output_type": "execute_result"
    }
   ],
   "source": [
    "df_grp = df.groupby('Dept')\n",
    "\n",
    "df_grp[['Math','Science','English']].mean()\n"
   ]
  },
  {
   "cell_type": "markdown",
   "id": "675a5405-3a85-4acb-981f-e177816dd346",
   "metadata": {},
   "source": [
    "### 2. Find the highest Math score in each department."
   ]
  },
  {
   "cell_type": "code",
   "execution_count": 11,
   "id": "7a27d309-9090-4aa7-99d6-25ee8b6dbca9",
   "metadata": {},
   "outputs": [
    {
     "data": {
      "text/plain": [
       "Dept\n",
       "CSE    92.0\n",
       "ECE    74.0\n",
       "ME     69.0\n",
       "Name: Math, dtype: float64"
      ]
     },
     "execution_count": 11,
     "metadata": {},
     "output_type": "execute_result"
    }
   ],
   "source": [
    "df_grp['Math'].max()"
   ]
  },
  {
   "cell_type": "markdown",
   "id": "49ebf22b-cf7b-4d0d-8978-57edc0cda362",
   "metadata": {},
   "source": [
    "### 3. Count how many students belong to each department."
   ]
  },
  {
   "cell_type": "code",
   "execution_count": 12,
   "id": "e787cf49-effc-4d1b-8546-3ef751701cab",
   "metadata": {},
   "outputs": [
    {
     "data": {
      "text/plain": [
       "Dept\n",
       "CSE    3\n",
       "ECE    2\n",
       "ME     1\n",
       "Name: RollNo, dtype: int64"
      ]
     },
     "execution_count": 12,
     "metadata": {},
     "output_type": "execute_result"
    }
   ],
   "source": [
    "df_grp['RollNo'].count()"
   ]
  },
  {
   "cell_type": "markdown",
   "id": "08e8af17-4ef1-4734-8cdf-6f8d0675ff7e",
   "metadata": {},
   "source": [
    "### 4. Compute the minimum, maximum, and mean of Science marks."
   ]
  },
  {
   "cell_type": "code",
   "execution_count": 17,
   "id": "cdeedbc3-c526-441f-85a9-045360caa446",
   "metadata": {},
   "outputs": [
    {
     "data": {
      "text/plain": [
       "76.0"
      ]
     },
     "execution_count": 17,
     "metadata": {},
     "output_type": "execute_result"
    }
   ],
   "source": [
    "df['Science'].min()"
   ]
  },
  {
   "cell_type": "code",
   "execution_count": 16,
   "id": "fb7189e0-e206-4002-80c2-725405da383d",
   "metadata": {},
   "outputs": [
    {
     "data": {
      "text/plain": [
       "91.0"
      ]
     },
     "execution_count": 16,
     "metadata": {},
     "output_type": "execute_result"
    }
   ],
   "source": [
    "df['Science'].max()"
   ]
  },
  {
   "cell_type": "code",
   "execution_count": 18,
   "id": "9f06f8c5-bb7e-4fde-8329-55d8fddfc62d",
   "metadata": {},
   "outputs": [
    {
     "data": {
      "text/plain": [
       "83.6"
      ]
     },
     "execution_count": 18,
     "metadata": {},
     "output_type": "execute_result"
    }
   ],
   "source": [
    "df['Science'].mean()"
   ]
  },
  {
   "cell_type": "markdown",
   "id": "c2c54c21-abe2-439f-bc8e-5a43be7c5031",
   "metadata": {},
   "source": [
    "### 5. For each department, apply multiple aggregations:\n",
    "#### Math: mean, max\n",
    "#### Science: min, count"
   ]
  },
  {
   "cell_type": "code",
   "execution_count": 19,
   "id": "97bac1f7-f69e-4ab4-9df4-aa392ced129a",
   "metadata": {},
   "outputs": [
    {
     "data": {
      "text/plain": [
       "Dept\n",
       "CSE    88.333333\n",
       "ECE    74.000000\n",
       "ME     69.000000\n",
       "Name: Math, dtype: float64"
      ]
     },
     "execution_count": 19,
     "metadata": {},
     "output_type": "execute_result"
    }
   ],
   "source": [
    "df_grp['Math'].mean()"
   ]
  },
  {
   "cell_type": "code",
   "execution_count": 20,
   "id": "4006ecf0-57eb-4bb7-9b7a-79bc714f2d87",
   "metadata": {},
   "outputs": [
    {
     "data": {
      "text/plain": [
       "Dept\n",
       "CSE    92.0\n",
       "ECE    74.0\n",
       "ME     69.0\n",
       "Name: Math, dtype: float64"
      ]
     },
     "execution_count": 20,
     "metadata": {},
     "output_type": "execute_result"
    }
   ],
   "source": [
    "df_grp['Math'].max()"
   ]
  },
  {
   "cell_type": "code",
   "execution_count": 21,
   "id": "39953bf6-9715-4c57-8154-24e0a23fbfcf",
   "metadata": {},
   "outputs": [
    {
     "data": {
      "text/plain": [
       "Dept\n",
       "CSE    89.0\n",
       "ECE    78.0\n",
       "ME     76.0\n",
       "Name: Science, dtype: float64"
      ]
     },
     "execution_count": 21,
     "metadata": {},
     "output_type": "execute_result"
    }
   ],
   "source": [
    "df_grp['Science'].min()"
   ]
  },
  {
   "cell_type": "code",
   "execution_count": 22,
   "id": "78af4fff-df5a-442b-8e53-c8e839aac1d5",
   "metadata": {},
   "outputs": [
    {
     "data": {
      "text/plain": [
       "Dept\n",
       "CSE    2\n",
       "ECE    2\n",
       "ME     1\n",
       "Name: Science, dtype: int64"
      ]
     },
     "execution_count": 22,
     "metadata": {},
     "output_type": "execute_result"
    }
   ],
   "source": [
    "df_grp['Science'].count()"
   ]
  },
  {
   "cell_type": "markdown",
   "id": "101f367e-5cfd-45cd-b3be-9b21db1fd132",
   "metadata": {},
   "source": [
    "## Merge"
   ]
  },
  {
   "cell_type": "code",
   "execution_count": 23,
   "id": "d21a5c96-f245-4448-9145-f6c9caa4af85",
   "metadata": {},
   "outputs": [],
   "source": [
    "attendance = {\n",
    "    'RollNo': [101, 102, 103, 104, 107],\n",
    "    'Attendance(%)': [92, 85, 88, 76, 90]\n",
    "}"
   ]
  },
  {
   "cell_type": "code",
   "execution_count": 24,
   "id": "a5957a50-2ad5-4114-978d-e9378bfe45fd",
   "metadata": {},
   "outputs": [],
   "source": [
    "df1 = pd.DataFrame(students)"
   ]
  },
  {
   "cell_type": "code",
   "execution_count": 25,
   "id": "435da08d-a213-44f2-91a6-31dfd9a43cfb",
   "metadata": {},
   "outputs": [],
   "source": [
    "df2 = pd.DataFrame(attendance)"
   ]
  },
  {
   "cell_type": "markdown",
   "id": "29b8c7da-fe08-45eb-9e27-2c47ab1ec26f",
   "metadata": {},
   "source": [
    "### 6. Merge students and attendance on RollNo (inner join)."
   ]
  },
  {
   "cell_type": "code",
   "execution_count": 26,
   "id": "2e4dbdd6-d10b-4d08-9a4a-cb0acee96281",
   "metadata": {},
   "outputs": [
    {
     "data": {
      "text/html": [
       "<div>\n",
       "<style scoped>\n",
       "    .dataframe tbody tr th:only-of-type {\n",
       "        vertical-align: middle;\n",
       "    }\n",
       "\n",
       "    .dataframe tbody tr th {\n",
       "        vertical-align: top;\n",
       "    }\n",
       "\n",
       "    .dataframe thead th {\n",
       "        text-align: right;\n",
       "    }\n",
       "</style>\n",
       "<table border=\"1\" class=\"dataframe\">\n",
       "  <thead>\n",
       "    <tr style=\"text-align: right;\">\n",
       "      <th></th>\n",
       "      <th>RollNo</th>\n",
       "      <th>Name</th>\n",
       "      <th>Dept</th>\n",
       "      <th>Math</th>\n",
       "      <th>Science</th>\n",
       "      <th>English</th>\n",
       "      <th>Attendance(%)</th>\n",
       "    </tr>\n",
       "  </thead>\n",
       "  <tbody>\n",
       "    <tr>\n",
       "      <th>0</th>\n",
       "      <td>101</td>\n",
       "      <td>Aarav</td>\n",
       "      <td>CSE</td>\n",
       "      <td>88.0</td>\n",
       "      <td>91.0</td>\n",
       "      <td>85.0</td>\n",
       "      <td>92</td>\n",
       "    </tr>\n",
       "    <tr>\n",
       "      <th>1</th>\n",
       "      <td>102</td>\n",
       "      <td>Diya</td>\n",
       "      <td>CSE</td>\n",
       "      <td>92.0</td>\n",
       "      <td>NaN</td>\n",
       "      <td>87.0</td>\n",
       "      <td>85</td>\n",
       "    </tr>\n",
       "    <tr>\n",
       "      <th>2</th>\n",
       "      <td>103</td>\n",
       "      <td>Ishaan</td>\n",
       "      <td>ECE</td>\n",
       "      <td>NaN</td>\n",
       "      <td>78.0</td>\n",
       "      <td>80.0</td>\n",
       "      <td>88</td>\n",
       "    </tr>\n",
       "    <tr>\n",
       "      <th>3</th>\n",
       "      <td>104</td>\n",
       "      <td>Meera</td>\n",
       "      <td>ECE</td>\n",
       "      <td>74.0</td>\n",
       "      <td>84.0</td>\n",
       "      <td>NaN</td>\n",
       "      <td>76</td>\n",
       "    </tr>\n",
       "  </tbody>\n",
       "</table>\n",
       "</div>"
      ],
      "text/plain": [
       "   RollNo    Name Dept  Math  Science  English  Attendance(%)\n",
       "0     101   Aarav  CSE  88.0     91.0     85.0             92\n",
       "1     102    Diya  CSE  92.0      NaN     87.0             85\n",
       "2     103  Ishaan  ECE   NaN     78.0     80.0             88\n",
       "3     104   Meera  ECE  74.0     84.0      NaN             76"
      ]
     },
     "execution_count": 26,
     "metadata": {},
     "output_type": "execute_result"
    }
   ],
   "source": [
    "pd.merge(df1, df2, on = 'RollNo', how = \"inner\")"
   ]
  },
  {
   "cell_type": "markdown",
   "id": "b76592c9-38ed-4b92-a0c4-9ed2a833bb53",
   "metadata": {},
   "source": [
    "### 7. Merge students and sports (outer join) – identify students without sports info."
   ]
  },
  {
   "cell_type": "code",
   "execution_count": 28,
   "id": "d54030cb-ac22-43d1-b7c7-c8494cf59b13",
   "metadata": {},
   "outputs": [],
   "source": [
    "df3 = pd.DataFrame(sports)"
   ]
  },
  {
   "cell_type": "code",
   "execution_count": 40,
   "id": "d4004f56-6be8-4cf0-8e63-625fb461b4f1",
   "metadata": {},
   "outputs": [
    {
     "data": {
      "text/html": [
       "<div>\n",
       "<style scoped>\n",
       "    .dataframe tbody tr th:only-of-type {\n",
       "        vertical-align: middle;\n",
       "    }\n",
       "\n",
       "    .dataframe tbody tr th {\n",
       "        vertical-align: top;\n",
       "    }\n",
       "\n",
       "    .dataframe thead th {\n",
       "        text-align: right;\n",
       "    }\n",
       "</style>\n",
       "<table border=\"1\" class=\"dataframe\">\n",
       "  <thead>\n",
       "    <tr style=\"text-align: right;\">\n",
       "      <th></th>\n",
       "      <th>RollNo</th>\n",
       "      <th>Name</th>\n",
       "      <th>Dept</th>\n",
       "      <th>Math</th>\n",
       "      <th>Science</th>\n",
       "      <th>English</th>\n",
       "      <th>Sport</th>\n",
       "    </tr>\n",
       "  </thead>\n",
       "  <tbody>\n",
       "    <tr>\n",
       "      <th>1</th>\n",
       "      <td>102</td>\n",
       "      <td>Diya</td>\n",
       "      <td>CSE</td>\n",
       "      <td>92.0</td>\n",
       "      <td>NaN</td>\n",
       "      <td>87.0</td>\n",
       "      <td>NaN</td>\n",
       "    </tr>\n",
       "    <tr>\n",
       "      <th>3</th>\n",
       "      <td>104</td>\n",
       "      <td>Meera</td>\n",
       "      <td>ECE</td>\n",
       "      <td>74.0</td>\n",
       "      <td>84.0</td>\n",
       "      <td>NaN</td>\n",
       "      <td>NaN</td>\n",
       "    </tr>\n",
       "    <tr>\n",
       "      <th>5</th>\n",
       "      <td>106</td>\n",
       "      <td>Anaya</td>\n",
       "      <td>CSE</td>\n",
       "      <td>85.0</td>\n",
       "      <td>89.0</td>\n",
       "      <td>90.0</td>\n",
       "      <td>NaN</td>\n",
       "    </tr>\n",
       "  </tbody>\n",
       "</table>\n",
       "</div>"
      ],
      "text/plain": [
       "   RollNo   Name Dept  Math  Science  English Sport\n",
       "1     102   Diya  CSE  92.0      NaN     87.0   NaN\n",
       "3     104  Meera  ECE  74.0     84.0      NaN   NaN\n",
       "5     106  Anaya  CSE  85.0     89.0     90.0   NaN"
      ]
     },
     "execution_count": 40,
     "metadata": {},
     "output_type": "execute_result"
    }
   ],
   "source": [
    "merge_df = pd.merge(df1, df3, on = 'RollNo', how = \"outer\")\n",
    "merge_df = merge_df[merge_df['Sport'].isna()]\n",
    "merge_df"
   ]
  },
  {
   "cell_type": "markdown",
   "id": "0aeb7473-af03-499c-92e4-ae41bc7ca081",
   "metadata": {},
   "source": [
    "## join"
   ]
  },
  {
   "cell_type": "markdown",
   "id": "e7b02e28-8b48-4644-8451-160e19cc5873",
   "metadata": {},
   "source": [
    "### 8. Convert students and attendance into DataFrames with RollNo as index. Perform a left join on index."
   ]
  },
  {
   "cell_type": "code",
   "execution_count": 59,
   "id": "104f1bb6-0725-4187-aaa2-ce4f9ec6ff81",
   "metadata": {},
   "outputs": [
    {
     "data": {
      "text/html": [
       "<div>\n",
       "<style scoped>\n",
       "    .dataframe tbody tr th:only-of-type {\n",
       "        vertical-align: middle;\n",
       "    }\n",
       "\n",
       "    .dataframe tbody tr th {\n",
       "        vertical-align: top;\n",
       "    }\n",
       "\n",
       "    .dataframe thead th {\n",
       "        text-align: right;\n",
       "    }\n",
       "</style>\n",
       "<table border=\"1\" class=\"dataframe\">\n",
       "  <thead>\n",
       "    <tr style=\"text-align: right;\">\n",
       "      <th></th>\n",
       "      <th>Name</th>\n",
       "      <th>Dept</th>\n",
       "      <th>Math</th>\n",
       "      <th>Science</th>\n",
       "      <th>English</th>\n",
       "    </tr>\n",
       "    <tr>\n",
       "      <th>RollNo</th>\n",
       "      <th></th>\n",
       "      <th></th>\n",
       "      <th></th>\n",
       "      <th></th>\n",
       "      <th></th>\n",
       "    </tr>\n",
       "  </thead>\n",
       "  <tbody>\n",
       "    <tr>\n",
       "      <th>101</th>\n",
       "      <td>Aarav</td>\n",
       "      <td>CSE</td>\n",
       "      <td>88.0</td>\n",
       "      <td>91.0</td>\n",
       "      <td>85.0</td>\n",
       "    </tr>\n",
       "    <tr>\n",
       "      <th>102</th>\n",
       "      <td>Diya</td>\n",
       "      <td>CSE</td>\n",
       "      <td>92.0</td>\n",
       "      <td>NaN</td>\n",
       "      <td>87.0</td>\n",
       "    </tr>\n",
       "    <tr>\n",
       "      <th>103</th>\n",
       "      <td>Ishaan</td>\n",
       "      <td>ECE</td>\n",
       "      <td>NaN</td>\n",
       "      <td>78.0</td>\n",
       "      <td>80.0</td>\n",
       "    </tr>\n",
       "    <tr>\n",
       "      <th>104</th>\n",
       "      <td>Meera</td>\n",
       "      <td>ECE</td>\n",
       "      <td>74.0</td>\n",
       "      <td>84.0</td>\n",
       "      <td>NaN</td>\n",
       "    </tr>\n",
       "    <tr>\n",
       "      <th>105</th>\n",
       "      <td>Kabir</td>\n",
       "      <td>ME</td>\n",
       "      <td>69.0</td>\n",
       "      <td>76.0</td>\n",
       "      <td>74.0</td>\n",
       "    </tr>\n",
       "    <tr>\n",
       "      <th>106</th>\n",
       "      <td>Anaya</td>\n",
       "      <td>CSE</td>\n",
       "      <td>85.0</td>\n",
       "      <td>89.0</td>\n",
       "      <td>90.0</td>\n",
       "    </tr>\n",
       "  </tbody>\n",
       "</table>\n",
       "</div>"
      ],
      "text/plain": [
       "          Name Dept  Math  Science  English\n",
       "RollNo                                     \n",
       "101      Aarav  CSE  88.0     91.0     85.0\n",
       "102       Diya  CSE  92.0      NaN     87.0\n",
       "103     Ishaan  ECE   NaN     78.0     80.0\n",
       "104      Meera  ECE  74.0     84.0      NaN\n",
       "105      Kabir   ME  69.0     76.0     74.0\n",
       "106      Anaya  CSE  85.0     89.0     90.0"
      ]
     },
     "execution_count": 59,
     "metadata": {},
     "output_type": "execute_result"
    }
   ],
   "source": [
    "df_students = pd.DataFrame(students)\n",
    "df_students = df_students.set_index('RollNo')\n",
    "df_students"
   ]
  },
  {
   "cell_type": "code",
   "execution_count": 58,
   "id": "0ef4903c-b16a-488b-8cb2-c55d52e536f0",
   "metadata": {},
   "outputs": [
    {
     "data": {
      "text/html": [
       "<div>\n",
       "<style scoped>\n",
       "    .dataframe tbody tr th:only-of-type {\n",
       "        vertical-align: middle;\n",
       "    }\n",
       "\n",
       "    .dataframe tbody tr th {\n",
       "        vertical-align: top;\n",
       "    }\n",
       "\n",
       "    .dataframe thead th {\n",
       "        text-align: right;\n",
       "    }\n",
       "</style>\n",
       "<table border=\"1\" class=\"dataframe\">\n",
       "  <thead>\n",
       "    <tr style=\"text-align: right;\">\n",
       "      <th></th>\n",
       "      <th>Attendance(%)</th>\n",
       "    </tr>\n",
       "    <tr>\n",
       "      <th>RollNo</th>\n",
       "      <th></th>\n",
       "    </tr>\n",
       "  </thead>\n",
       "  <tbody>\n",
       "    <tr>\n",
       "      <th>101</th>\n",
       "      <td>92</td>\n",
       "    </tr>\n",
       "    <tr>\n",
       "      <th>102</th>\n",
       "      <td>85</td>\n",
       "    </tr>\n",
       "    <tr>\n",
       "      <th>103</th>\n",
       "      <td>88</td>\n",
       "    </tr>\n",
       "    <tr>\n",
       "      <th>104</th>\n",
       "      <td>76</td>\n",
       "    </tr>\n",
       "    <tr>\n",
       "      <th>107</th>\n",
       "      <td>90</td>\n",
       "    </tr>\n",
       "  </tbody>\n",
       "</table>\n",
       "</div>"
      ],
      "text/plain": [
       "        Attendance(%)\n",
       "RollNo               \n",
       "101                92\n",
       "102                85\n",
       "103                88\n",
       "104                76\n",
       "107                90"
      ]
     },
     "execution_count": 58,
     "metadata": {},
     "output_type": "execute_result"
    }
   ],
   "source": [
    "df_attendance = pd.DataFrame(attendance)\n",
    "df_attendance = df_attendance.set_index('RollNo')\n",
    "df_attendance"
   ]
  },
  {
   "cell_type": "code",
   "execution_count": 60,
   "id": "fb8e49f4-3079-4e22-b24b-e45311434e7e",
   "metadata": {},
   "outputs": [
    {
     "data": {
      "text/html": [
       "<div>\n",
       "<style scoped>\n",
       "    .dataframe tbody tr th:only-of-type {\n",
       "        vertical-align: middle;\n",
       "    }\n",
       "\n",
       "    .dataframe tbody tr th {\n",
       "        vertical-align: top;\n",
       "    }\n",
       "\n",
       "    .dataframe thead th {\n",
       "        text-align: right;\n",
       "    }\n",
       "</style>\n",
       "<table border=\"1\" class=\"dataframe\">\n",
       "  <thead>\n",
       "    <tr style=\"text-align: right;\">\n",
       "      <th></th>\n",
       "      <th>Name</th>\n",
       "      <th>Dept</th>\n",
       "      <th>Math</th>\n",
       "      <th>Science</th>\n",
       "      <th>English</th>\n",
       "      <th>Attendance(%)</th>\n",
       "    </tr>\n",
       "    <tr>\n",
       "      <th>RollNo</th>\n",
       "      <th></th>\n",
       "      <th></th>\n",
       "      <th></th>\n",
       "      <th></th>\n",
       "      <th></th>\n",
       "      <th></th>\n",
       "    </tr>\n",
       "  </thead>\n",
       "  <tbody>\n",
       "    <tr>\n",
       "      <th>101</th>\n",
       "      <td>Aarav</td>\n",
       "      <td>CSE</td>\n",
       "      <td>88.0</td>\n",
       "      <td>91.0</td>\n",
       "      <td>85.0</td>\n",
       "      <td>92.0</td>\n",
       "    </tr>\n",
       "    <tr>\n",
       "      <th>102</th>\n",
       "      <td>Diya</td>\n",
       "      <td>CSE</td>\n",
       "      <td>92.0</td>\n",
       "      <td>NaN</td>\n",
       "      <td>87.0</td>\n",
       "      <td>85.0</td>\n",
       "    </tr>\n",
       "    <tr>\n",
       "      <th>103</th>\n",
       "      <td>Ishaan</td>\n",
       "      <td>ECE</td>\n",
       "      <td>NaN</td>\n",
       "      <td>78.0</td>\n",
       "      <td>80.0</td>\n",
       "      <td>88.0</td>\n",
       "    </tr>\n",
       "    <tr>\n",
       "      <th>104</th>\n",
       "      <td>Meera</td>\n",
       "      <td>ECE</td>\n",
       "      <td>74.0</td>\n",
       "      <td>84.0</td>\n",
       "      <td>NaN</td>\n",
       "      <td>76.0</td>\n",
       "    </tr>\n",
       "    <tr>\n",
       "      <th>105</th>\n",
       "      <td>Kabir</td>\n",
       "      <td>ME</td>\n",
       "      <td>69.0</td>\n",
       "      <td>76.0</td>\n",
       "      <td>74.0</td>\n",
       "      <td>NaN</td>\n",
       "    </tr>\n",
       "    <tr>\n",
       "      <th>106</th>\n",
       "      <td>Anaya</td>\n",
       "      <td>CSE</td>\n",
       "      <td>85.0</td>\n",
       "      <td>89.0</td>\n",
       "      <td>90.0</td>\n",
       "      <td>NaN</td>\n",
       "    </tr>\n",
       "  </tbody>\n",
       "</table>\n",
       "</div>"
      ],
      "text/plain": [
       "          Name Dept  Math  Science  English  Attendance(%)\n",
       "RollNo                                                    \n",
       "101      Aarav  CSE  88.0     91.0     85.0           92.0\n",
       "102       Diya  CSE  92.0      NaN     87.0           85.0\n",
       "103     Ishaan  ECE   NaN     78.0     80.0           88.0\n",
       "104      Meera  ECE  74.0     84.0      NaN           76.0\n",
       "105      Kabir   ME  69.0     76.0     74.0            NaN\n",
       "106      Anaya  CSE  85.0     89.0     90.0            NaN"
      ]
     },
     "execution_count": 60,
     "metadata": {},
     "output_type": "execute_result"
    }
   ],
   "source": [
    "df_students.join(df_attendance, how='left')"
   ]
  },
  {
   "cell_type": "markdown",
   "id": "0b5ac011-a9f3-40a8-a521-758e3f02aae4",
   "metadata": {},
   "source": [
    "## concat"
   ]
  },
  {
   "cell_type": "markdown",
   "id": "940463e7-3ef5-47eb-b206-37822161d9a8",
   "metadata": {},
   "source": [
    "### 9. Create a new small DataFrame of newly admitted students:"
   ]
  },
  {
   "cell_type": "code",
   "execution_count": 62,
   "id": "a24d92c0-7853-40db-a2b4-65ee55e5f2d5",
   "metadata": {},
   "outputs": [],
   "source": [
    "new_students = {\n",
    "    'RollNo': [109, 110],\n",
    "    'Name': ['Rohan', 'Sara'],\n",
    "    'Dept': ['ECE', 'CSE'],\n",
    "    'Math': [81, 95],\n",
    "    'Science': [79, 88],\n",
    "    'English': [83, 91]\n",
    "}"
   ]
  },
  {
   "cell_type": "code",
   "execution_count": 63,
   "id": "7d493bed-10d9-4544-bcd3-ab7b5bfec64f",
   "metadata": {},
   "outputs": [],
   "source": [
    "df_new_students = pd.DataFrame(new_students)"
   ]
  },
  {
   "cell_type": "markdown",
   "id": "12019dc3-5b09-4962-a3c7-29e53ee8228e",
   "metadata": {},
   "source": [
    "### 10. Concatenate this DataFrame with the original students."
   ]
  },
  {
   "cell_type": "code",
   "execution_count": 64,
   "id": "fed2aac3-38dc-41fe-8900-36eeca3c1ddb",
   "metadata": {},
   "outputs": [
    {
     "data": {
      "text/html": [
       "<div>\n",
       "<style scoped>\n",
       "    .dataframe tbody tr th:only-of-type {\n",
       "        vertical-align: middle;\n",
       "    }\n",
       "\n",
       "    .dataframe tbody tr th {\n",
       "        vertical-align: top;\n",
       "    }\n",
       "\n",
       "    .dataframe thead th {\n",
       "        text-align: right;\n",
       "    }\n",
       "</style>\n",
       "<table border=\"1\" class=\"dataframe\">\n",
       "  <thead>\n",
       "    <tr style=\"text-align: right;\">\n",
       "      <th></th>\n",
       "      <th>RollNo</th>\n",
       "      <th>Name</th>\n",
       "      <th>Dept</th>\n",
       "      <th>Math</th>\n",
       "      <th>Science</th>\n",
       "      <th>English</th>\n",
       "    </tr>\n",
       "  </thead>\n",
       "  <tbody>\n",
       "    <tr>\n",
       "      <th>0</th>\n",
       "      <td>101</td>\n",
       "      <td>Aarav</td>\n",
       "      <td>CSE</td>\n",
       "      <td>88.0</td>\n",
       "      <td>91.0</td>\n",
       "      <td>85.0</td>\n",
       "    </tr>\n",
       "    <tr>\n",
       "      <th>1</th>\n",
       "      <td>102</td>\n",
       "      <td>Diya</td>\n",
       "      <td>CSE</td>\n",
       "      <td>92.0</td>\n",
       "      <td>NaN</td>\n",
       "      <td>87.0</td>\n",
       "    </tr>\n",
       "    <tr>\n",
       "      <th>2</th>\n",
       "      <td>103</td>\n",
       "      <td>Ishaan</td>\n",
       "      <td>ECE</td>\n",
       "      <td>NaN</td>\n",
       "      <td>78.0</td>\n",
       "      <td>80.0</td>\n",
       "    </tr>\n",
       "    <tr>\n",
       "      <th>3</th>\n",
       "      <td>104</td>\n",
       "      <td>Meera</td>\n",
       "      <td>ECE</td>\n",
       "      <td>74.0</td>\n",
       "      <td>84.0</td>\n",
       "      <td>NaN</td>\n",
       "    </tr>\n",
       "    <tr>\n",
       "      <th>4</th>\n",
       "      <td>105</td>\n",
       "      <td>Kabir</td>\n",
       "      <td>ME</td>\n",
       "      <td>69.0</td>\n",
       "      <td>76.0</td>\n",
       "      <td>74.0</td>\n",
       "    </tr>\n",
       "    <tr>\n",
       "      <th>5</th>\n",
       "      <td>106</td>\n",
       "      <td>Anaya</td>\n",
       "      <td>CSE</td>\n",
       "      <td>85.0</td>\n",
       "      <td>89.0</td>\n",
       "      <td>90.0</td>\n",
       "    </tr>\n",
       "    <tr>\n",
       "      <th>0</th>\n",
       "      <td>109</td>\n",
       "      <td>Rohan</td>\n",
       "      <td>ECE</td>\n",
       "      <td>81.0</td>\n",
       "      <td>79.0</td>\n",
       "      <td>83.0</td>\n",
       "    </tr>\n",
       "    <tr>\n",
       "      <th>1</th>\n",
       "      <td>110</td>\n",
       "      <td>Sara</td>\n",
       "      <td>CSE</td>\n",
       "      <td>95.0</td>\n",
       "      <td>88.0</td>\n",
       "      <td>91.0</td>\n",
       "    </tr>\n",
       "  </tbody>\n",
       "</table>\n",
       "</div>"
      ],
      "text/plain": [
       "   RollNo    Name Dept  Math  Science  English\n",
       "0     101   Aarav  CSE  88.0     91.0     85.0\n",
       "1     102    Diya  CSE  92.0      NaN     87.0\n",
       "2     103  Ishaan  ECE   NaN     78.0     80.0\n",
       "3     104   Meera  ECE  74.0     84.0      NaN\n",
       "4     105   Kabir   ME  69.0     76.0     74.0\n",
       "5     106   Anaya  CSE  85.0     89.0     90.0\n",
       "0     109   Rohan  ECE  81.0     79.0     83.0\n",
       "1     110    Sara  CSE  95.0     88.0     91.0"
      ]
     },
     "execution_count": 64,
     "metadata": {},
     "output_type": "execute_result"
    }
   ],
   "source": [
    "pd.concat([df1,df_new_students])"
   ]
  },
  {
   "cell_type": "markdown",
   "id": "1381be74-c739-4773-8248-5077b6d4fcd9",
   "metadata": {},
   "source": [
    "### 11. Concatenate students[['RollNo','Name']] with sports column-wise."
   ]
  },
  {
   "cell_type": "code",
   "execution_count": 65,
   "id": "f20c2153-7671-4ac5-b519-f2c912c61372",
   "metadata": {},
   "outputs": [],
   "source": [
    "sports_df = pd.DataFrame(sports)"
   ]
  },
  {
   "cell_type": "code",
   "execution_count": 67,
   "id": "3e43cfc2-11f8-425c-bc35-49f7dab30679",
   "metadata": {},
   "outputs": [
    {
     "data": {
      "text/html": [
       "<div>\n",
       "<style scoped>\n",
       "    .dataframe tbody tr th:only-of-type {\n",
       "        vertical-align: middle;\n",
       "    }\n",
       "\n",
       "    .dataframe tbody tr th {\n",
       "        vertical-align: top;\n",
       "    }\n",
       "\n",
       "    .dataframe thead th {\n",
       "        text-align: right;\n",
       "    }\n",
       "</style>\n",
       "<table border=\"1\" class=\"dataframe\">\n",
       "  <thead>\n",
       "    <tr style=\"text-align: right;\">\n",
       "      <th></th>\n",
       "      <th>RollNo</th>\n",
       "      <th>Name</th>\n",
       "      <th>RollNo</th>\n",
       "      <th>Sport</th>\n",
       "    </tr>\n",
       "  </thead>\n",
       "  <tbody>\n",
       "    <tr>\n",
       "      <th>0</th>\n",
       "      <td>101</td>\n",
       "      <td>Aarav</td>\n",
       "      <td>101.0</td>\n",
       "      <td>Cricket</td>\n",
       "    </tr>\n",
       "    <tr>\n",
       "      <th>1</th>\n",
       "      <td>102</td>\n",
       "      <td>Diya</td>\n",
       "      <td>103.0</td>\n",
       "      <td>Football</td>\n",
       "    </tr>\n",
       "    <tr>\n",
       "      <th>2</th>\n",
       "      <td>103</td>\n",
       "      <td>Ishaan</td>\n",
       "      <td>105.0</td>\n",
       "      <td>Badminton</td>\n",
       "    </tr>\n",
       "    <tr>\n",
       "      <th>3</th>\n",
       "      <td>104</td>\n",
       "      <td>Meera</td>\n",
       "      <td>107.0</td>\n",
       "      <td>Hockey</td>\n",
       "    </tr>\n",
       "    <tr>\n",
       "      <th>4</th>\n",
       "      <td>105</td>\n",
       "      <td>Kabir</td>\n",
       "      <td>NaN</td>\n",
       "      <td>NaN</td>\n",
       "    </tr>\n",
       "    <tr>\n",
       "      <th>5</th>\n",
       "      <td>106</td>\n",
       "      <td>Anaya</td>\n",
       "      <td>NaN</td>\n",
       "      <td>NaN</td>\n",
       "    </tr>\n",
       "  </tbody>\n",
       "</table>\n",
       "</div>"
      ],
      "text/plain": [
       "   RollNo    Name  RollNo      Sport\n",
       "0     101   Aarav   101.0    Cricket\n",
       "1     102    Diya   103.0   Football\n",
       "2     103  Ishaan   105.0  Badminton\n",
       "3     104   Meera   107.0     Hockey\n",
       "4     105   Kabir     NaN        NaN\n",
       "5     106   Anaya     NaN        NaN"
      ]
     },
     "execution_count": 67,
     "metadata": {},
     "output_type": "execute_result"
    }
   ],
   "source": [
    "# student_df = pd.DataFrame()\n",
    "pd.concat([df1[['RollNo','Name']], sports_df], axis= 1)"
   ]
  },
  {
   "cell_type": "code",
   "execution_count": 27,
   "id": "b01f3692-ae72-48bb-a019-64cb4f67b0fe",
   "metadata": {},
   "outputs": [],
   "source": [
    "sports = {\n",
    "    'RollNo': [101, 103, 105, 107],\n",
    "    'Sport': ['Cricket', 'Football', 'Badminton', 'Hockey']\n",
    "}"
   ]
  },
  {
   "cell_type": "markdown",
   "id": "24e30001-1ace-466a-b5ae-43186664c4f5",
   "metadata": {},
   "source": [
    "## Handle missing value"
   ]
  },
  {
   "cell_type": "code",
   "execution_count": 71,
   "id": "9a2ec1f1-e74a-46c9-b217-fec80933cce9",
   "metadata": {},
   "outputs": [],
   "source": [
    "import numpy as np"
   ]
  },
  {
   "cell_type": "code",
   "execution_count": 78,
   "id": "4a77b603-ac26-4828-b18a-90098ce1f358",
   "metadata": {},
   "outputs": [],
   "source": [
    "di = {'Score1': [100, 90, np.nan, 95],\n",
    "        'Score2': [30, 45, 56, np.nan],\n",
    "        'Score3': [np.nan, 40, 80, 98]}"
   ]
  },
  {
   "cell_type": "code",
   "execution_count": 79,
   "id": "6e597e63-9e9c-40d3-b981-5b1bda3ebb98",
   "metadata": {},
   "outputs": [],
   "source": [
    "df = pd.DataFrame(di)"
   ]
  },
  {
   "cell_type": "code",
   "execution_count": 80,
   "id": "a690f787-df35-404d-855b-f50e434b338a",
   "metadata": {},
   "outputs": [],
   "source": [
    "df.to_csv('Scores.csv')"
   ]
  },
  {
   "cell_type": "markdown",
   "id": "77835adb-b243-45dd-bcc0-d18ef0e878c7",
   "metadata": {},
   "source": [
    "### 12. Read one csv file of your choice\n",
    "### Use different techniques to deal with missing values in the file"
   ]
  },
  {
   "cell_type": "code",
   "execution_count": 87,
   "id": "14df2d26-d70f-4b0a-9924-5634505d5395",
   "metadata": {},
   "outputs": [],
   "source": [
    "df = pd.read_csv('Scores.csv',index_col=0)"
   ]
  },
  {
   "cell_type": "code",
   "execution_count": 88,
   "id": "1a9d5c8c-5312-47c0-89f0-574cbed525ee",
   "metadata": {},
   "outputs": [
    {
     "data": {
      "text/html": [
       "<div>\n",
       "<style scoped>\n",
       "    .dataframe tbody tr th:only-of-type {\n",
       "        vertical-align: middle;\n",
       "    }\n",
       "\n",
       "    .dataframe tbody tr th {\n",
       "        vertical-align: top;\n",
       "    }\n",
       "\n",
       "    .dataframe thead th {\n",
       "        text-align: right;\n",
       "    }\n",
       "</style>\n",
       "<table border=\"1\" class=\"dataframe\">\n",
       "  <thead>\n",
       "    <tr style=\"text-align: right;\">\n",
       "      <th></th>\n",
       "      <th>Score1</th>\n",
       "      <th>Score2</th>\n",
       "      <th>Score3</th>\n",
       "    </tr>\n",
       "  </thead>\n",
       "  <tbody>\n",
       "    <tr>\n",
       "      <th>0</th>\n",
       "      <td>100.0</td>\n",
       "      <td>30.0</td>\n",
       "      <td>NaN</td>\n",
       "    </tr>\n",
       "    <tr>\n",
       "      <th>1</th>\n",
       "      <td>90.0</td>\n",
       "      <td>45.0</td>\n",
       "      <td>40.0</td>\n",
       "    </tr>\n",
       "    <tr>\n",
       "      <th>2</th>\n",
       "      <td>NaN</td>\n",
       "      <td>56.0</td>\n",
       "      <td>80.0</td>\n",
       "    </tr>\n",
       "    <tr>\n",
       "      <th>3</th>\n",
       "      <td>95.0</td>\n",
       "      <td>NaN</td>\n",
       "      <td>98.0</td>\n",
       "    </tr>\n",
       "  </tbody>\n",
       "</table>\n",
       "</div>"
      ],
      "text/plain": [
       "   Score1  Score2  Score3\n",
       "0   100.0    30.0     NaN\n",
       "1    90.0    45.0    40.0\n",
       "2     NaN    56.0    80.0\n",
       "3    95.0     NaN    98.0"
      ]
     },
     "execution_count": 88,
     "metadata": {},
     "output_type": "execute_result"
    }
   ],
   "source": [
    "df"
   ]
  }
 ],
 "metadata": {
  "kernelspec": {
   "display_name": "Python 3 (ipykernel)",
   "language": "python",
   "name": "python3"
  },
  "language_info": {
   "codemirror_mode": {
    "name": "ipython",
    "version": 3
   },
   "file_extension": ".py",
   "mimetype": "text/x-python",
   "name": "python",
   "nbconvert_exporter": "python",
   "pygments_lexer": "ipython3",
   "version": "3.12.7"
  }
 },
 "nbformat": 4,
 "nbformat_minor": 5
}
