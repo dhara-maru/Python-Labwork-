{
 "cells": [
  {
   "cell_type": "markdown",
   "id": "fd1bc7f2-33b9-4401-b22b-f4008fdb4c71",
   "metadata": {},
   "source": [
    "<a href='https://www.darshan.ac.in/'> <img src='https://www.darshan.ac.in/Content/media/DU_Logo.svg' width=\"150\" height=\"200\"/></a>\n",
    "<pre>\n",
    "<center><b><h2> Python for Data Science - 2305CS303 </b></center>\n",
    "<center><b><h2>Lab - 6</b></center>    \n",
    "<left><b><h3>Roll No. : 111</b></left>  \n",
    "<left><b><h3>Name : Dhara Maru</b></left>   \n",
    "<pre>    "
   ]
  },
  {
   "cell_type": "markdown",
   "id": "4775ea51-e4f7-4bec-9066-34d55f26f638",
   "metadata": {},
   "source": [
    "### 1. WAP to iterate over a set."
   ]
  },
  {
   "cell_type": "code",
   "execution_count": 1,
   "id": "0c129df0-0199-4a6d-b363-a27435769ab1",
   "metadata": {},
   "outputs": [
    {
     "name": "stdout",
     "output_type": "stream",
     "text": [
      "50\n",
      "20\n",
      "40\n",
      "10\n",
      "30\n"
     ]
    }
   ],
   "source": [
    "s1 = {10, 20, 30, 40, 50}\n",
    "for i in s1:\n",
    "    print(i)"
   ]
  },
  {
   "cell_type": "markdown",
   "id": "08e8af17-4ef1-4734-8cdf-6f8d0675ff7e",
   "metadata": {},
   "source": [
    "### 2. WAP to convert set into list, string and tuple.\n"
   ]
  },
  {
   "cell_type": "code",
   "execution_count": 2,
   "id": "cdeedbc3-c526-441f-85a9-045360caa446",
   "metadata": {},
   "outputs": [
    {
     "name": "stdout",
     "output_type": "stream",
     "text": [
      "[1, 2, 3, 4]\n",
      "1234\n",
      "(1, 2, 3, 4)\n"
     ]
    }
   ],
   "source": [
    "s2 = {1, 2, 3, 4}\n",
    "\n",
    "l1 = list(s2)\n",
    "str1 = ''.join(str(i) for i in s2)\n",
    "t1 = tuple(s2)\n",
    "\n",
    "print(l1)\n",
    "print(str1)\n",
    "print(t1)\n"
   ]
  },
  {
   "cell_type": "markdown",
   "id": "c2c54c21-abe2-439f-bc8e-5a43be7c5031",
   "metadata": {},
   "source": [
    "### 3. WAP to check if two lists have at-least one element common."
   ]
  },
  {
   "cell_type": "code",
   "execution_count": 3,
   "id": "97bac1f7-f69e-4ab4-9df4-aa392ced129a",
   "metadata": {},
   "outputs": [
    {
     "name": "stdout",
     "output_type": "stream",
     "text": [
      "True\n"
     ]
    }
   ],
   "source": [
    "l1 = [1, 2, 3, 4]\n",
    "l2 = [5, 6, 3, 7]\n",
    "l3 = False\n",
    "\n",
    "for i in l1:\n",
    "    if i in l2:\n",
    "        l3 = True\n",
    "        break\n",
    "\n",
    "print(l3)\n"
   ]
  },
  {
   "cell_type": "markdown",
   "id": "ddf54203-47cb-425c-b118-3318148c2571",
   "metadata": {},
   "source": [
    "### 4. WAP to remove duplicates from list."
   ]
  },
  {
   "cell_type": "code",
   "execution_count": 4,
   "id": "4c2be11a-7014-4c84-8dff-097f6edeaa25",
   "metadata": {},
   "outputs": [
    {
     "name": "stdout",
     "output_type": "stream",
     "text": [
      "[1, 2, 3, 4, 5]\n"
     ]
    }
   ],
   "source": [
    "l1 = [1, 2, 2, 3, 4, 4, 5]\n",
    "l2 = []\n",
    "for i in l1:\n",
    "    if i not in l2:\n",
    "        l2.append(i)\n",
    "print(l2)\n"
   ]
  },
  {
   "cell_type": "markdown",
   "id": "a90ecdf6-9f21-4b25-ace0-6083c311dddf",
   "metadata": {},
   "source": [
    "### 5. WAP to find unique words in the given string.\n"
   ]
  },
  {
   "cell_type": "code",
   "execution_count": 5,
   "id": "cb16a8ae-2d76-4e3c-8fac-ce9583e77ecf",
   "metadata": {},
   "outputs": [
    {
     "name": "stdout",
     "output_type": "stream",
     "text": [
      "['this', 'is', 'a', 'test', 'simple']\n"
     ]
    }
   ],
   "source": [
    "s1 = \"this is a test this is simple\"\n",
    "l1 = s1.split()\n",
    "l2 = []\n",
    "for word in l1:\n",
    "    if word not in l2:\n",
    "        l2.append(word)\n",
    "print(l2)\n"
   ]
  },
  {
   "cell_type": "markdown",
   "id": "e7b02e28-8b48-4644-8451-160e19cc5873",
   "metadata": {},
   "source": [
    "### 6. WAP to iterate over a dictionary."
   ]
  },
  {
   "cell_type": "code",
   "execution_count": 6,
   "id": "104f1bb6-0725-4187-aaa2-ce4f9ec6ff81",
   "metadata": {},
   "outputs": [
    {
     "name": "stdout",
     "output_type": "stream",
     "text": [
      "a 1\n",
      "b 2\n",
      "c 3\n"
     ]
    }
   ],
   "source": [
    "d1 = {'a': 1, 'b': 2, 'c': 3}\n",
    "for key in d1:\n",
    "    print(key, d1[key])\n"
   ]
  },
  {
   "cell_type": "markdown",
   "id": "940463e7-3ef5-47eb-b206-37822161d9a8",
   "metadata": {},
   "source": [
    "### 7. WAP to find the sum of all items (values) in a dictionary given by user. (Assume: values are numeric)."
   ]
  },
  {
   "cell_type": "code",
   "execution_count": 8,
   "id": "7d493bed-10d9-4544-bcd3-ab7b5bfec64f",
   "metadata": {},
   "outputs": [
    {
     "name": "stdin",
     "output_type": "stream",
     "text": [
      "Enter number of items:  3\n",
      "Enter key:  a\n",
      "Enter value:  10\n",
      "Enter key:  b\n",
      "Enter value:  20\n",
      "Enter key:  c\n",
      "Enter value:  30\n"
     ]
    },
    {
     "name": "stdout",
     "output_type": "stream",
     "text": [
      "Sum: 60\n"
     ]
    }
   ],
   "source": [
    "d1 = {}\n",
    "n = int(input(\"Enter number of items: \"))\n",
    "for i in range(n):\n",
    "    key = input(\"Enter key: \")\n",
    "    value = int(input(\"Enter value: \"))\n",
    "    d1[key] = value\n",
    "\n",
    "total = 0\n",
    "for v in d1.values():\n",
    "    total += v\n",
    "\n",
    "print(\"Sum:\", total)\n"
   ]
  },
  {
   "cell_type": "markdown",
   "id": "18b6a48c-cd98-48fe-8104-5209d5b7b207",
   "metadata": {},
   "source": [
    "### 8. WAP to sort dictionary by key or value."
   ]
  },
  {
   "cell_type": "code",
   "execution_count": 9,
   "id": "aa26256f-e86c-45f6-b187-45fa9368d1d5",
   "metadata": {},
   "outputs": [
    {
     "name": "stdout",
     "output_type": "stream",
     "text": [
      "Sorted by key: {'a': 1, 'b': 3, 'c': 2}\n",
      "Sorted by value: {'a': 1, 'c': 2, 'b': 3}\n"
     ]
    }
   ],
   "source": [
    "d1 = {'b': 3, 'a': 1, 'c': 2}\n",
    "\n",
    "sorted_by_key = dict(sorted(d1.items()))\n",
    "sorted_by_value = dict(sorted(d1.items(), key=lambda x: x[1]))\n",
    "\n",
    "print(\"Sorted by key:\", sorted_by_key)\n",
    "print(\"Sorted by value:\", sorted_by_value)\n"
   ]
  },
  {
   "cell_type": "markdown",
   "id": "a94bcb84-931a-496a-9bd7-88d041118eda",
   "metadata": {},
   "source": [
    "### 9. WAP to handle missing keys in dictionaries.\n",
    "### •\tExample : Given, dict1 = {'a': 5, 'c': 8, 'e': 2} \n",
    "### •\tif you look for key = 'd', the message given should be 'Key Not Found', otherwise print the value of 'd' in dict1."
   ]
  },
  {
   "cell_type": "code",
   "execution_count": 10,
   "id": "a57a339c-a141-409f-8265-8f13997d0766",
   "metadata": {},
   "outputs": [
    {
     "name": "stdout",
     "output_type": "stream",
     "text": [
      "Key Not Found\n"
     ]
    }
   ],
   "source": [
    "dict1 = {'a': 5, 'c': 8, 'e': 2}\n",
    "key = 'd'\n",
    "\n",
    "if key in dict1:\n",
    "    print(dict1[key])\n",
    "else:\n",
    "    print(\"Key Not Found\")\n"
   ]
  },
  {
   "cell_type": "code",
   "execution_count": null,
   "id": "aec2e276-b43d-44d1-995e-5d69c8024b92",
   "metadata": {},
   "outputs": [],
   "source": []
  }
 ],
 "metadata": {
  "kernelspec": {
   "display_name": "Python 3 (ipykernel)",
   "language": "python",
   "name": "python3"
  },
  "language_info": {
   "codemirror_mode": {
    "name": "ipython",
    "version": 3
   },
   "file_extension": ".py",
   "mimetype": "text/x-python",
   "name": "python",
   "nbconvert_exporter": "python",
   "pygments_lexer": "ipython3",
   "version": "3.12.7"
  }
 },
 "nbformat": 4,
 "nbformat_minor": 5
}
