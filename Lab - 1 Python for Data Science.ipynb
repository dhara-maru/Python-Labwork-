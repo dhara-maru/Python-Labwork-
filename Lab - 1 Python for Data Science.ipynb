{
 "cells": [
  {
   "cell_type": "markdown",
   "id": "fd1bc7f2-33b9-4401-b22b-f4008fdb4c71",
   "metadata": {},
   "source": [
    "<a href='https://www.darshan.ac.in/'> <img src='https://www.darshan.ac.in/Content/media/DU_Logo.svg' width=\"150\" height=\"200\"/></a>\n",
    "<pre>\n",
    "<center><b><h2> Python for Data Science - 2305CS303 </b></center>\n",
    "<center><b><h2>Lab - 1</b></center>    \n",
    "<left><b><h3>Roll No. : 111</b></left>  \n",
    "<left><b><h3>Name : Dhara Maru</b></left>   \n",
    "<pre>  "
   ]
  },
  {
   "cell_type": "markdown",
   "id": "4775ea51-e4f7-4bec-9066-34d55f26f638",
   "metadata": {},
   "source": [
    "### 1. WAP to print “Hello World”"
   ]
  },
  {
   "cell_type": "code",
   "execution_count": 4,
   "id": "0471b876-255d-4303-8b40-87f176352b00",
   "metadata": {},
   "outputs": [
    {
     "name": "stdout",
     "output_type": "stream",
     "text": [
      "Hello World\n"
     ]
    }
   ],
   "source": [
    "print(\"Hello World\")"
   ]
  },
  {
   "cell_type": "markdown",
   "id": "08e8af17-4ef1-4734-8cdf-6f8d0675ff7e",
   "metadata": {},
   "source": [
    "### 2. WAP to print your address i) using single print ii) using multiple print"
   ]
  },
  {
   "cell_type": "code",
   "execution_count": 5,
   "id": "6c690c35-280b-492a-95b4-178d718417a7",
   "metadata": {},
   "outputs": [
    {
     "name": "stdout",
     "output_type": "stream",
     "text": [
      "Dhara M.\n",
      "221B Baker Street\n",
      "Delhi, India - 110001\n",
      "=====================\n",
      "Dhara M\n",
      "221B Baker Street\n",
      "Delhi, India - 110001\n"
     ]
    }
   ],
   "source": [
    "print(\"Dhara M.\",\"221B Baker Street\",\"Delhi, India - 110001\", sep=\"\\n\")\n",
    "#multiple print\n",
    "print(\"=====================\")\n",
    "print(\"Dhara M\")\n",
    "print(\"221B Baker Street\")\n",
    "print(\"Delhi, India - 110001\")\n"
   ]
  },
  {
   "cell_type": "markdown",
   "id": "c2c54c21-abe2-439f-bc8e-5a43be7c5031",
   "metadata": {},
   "source": [
    "### 3. WAP to print addition of 2 numbers (without input function) "
   ]
  },
  {
   "cell_type": "code",
   "execution_count": 6,
   "id": "a2e9586a-aedc-4274-94be-093618bd865a",
   "metadata": {},
   "outputs": [
    {
     "name": "stdout",
     "output_type": "stream",
     "text": [
      "Adding  10 + 20  is =  30\n"
     ]
    }
   ],
   "source": [
    "a=10\n",
    "b=20\n",
    "print(\"Adding \",a,\"+\",b,\" is = \",a+b)"
   ]
  },
  {
   "cell_type": "markdown",
   "id": "ddf54203-47cb-425c-b118-3318148c2571",
   "metadata": {},
   "source": [
    "### 4. WAP to calculate and print average of 2 numbers (without input function)"
   ]
  },
  {
   "cell_type": "code",
   "execution_count": 7,
   "id": "d2262062-d9ad-4f38-b0ec-048aba1610e7",
   "metadata": {},
   "outputs": [
    {
     "name": "stdout",
     "output_type": "stream",
     "text": [
      "Average of 20 and 30 is 25.0\n"
     ]
    }
   ],
   "source": [
    "num1 = 20\n",
    "num2 = 30\n",
    "avg = (num1 + num2) / 2\n",
    "print(\"Average of\", num1, \"and\", num2, \"is\", avg)\n"
   ]
  },
  {
   "cell_type": "markdown",
   "id": "a90ecdf6-9f21-4b25-ace0-6083c311dddf",
   "metadata": {},
   "source": [
    "### 5. WAP to add two number entered by user."
   ]
  },
  {
   "cell_type": "code",
   "execution_count": 8,
   "id": "c9b5900d-933b-45ad-801e-a9bbc4b38930",
   "metadata": {},
   "outputs": [
    {
     "name": "stdin",
     "output_type": "stream",
     "text": [
      "Enter first number:  20\n",
      "Enter second number:  30\n"
     ]
    },
    {
     "name": "stdout",
     "output_type": "stream",
     "text": [
      "Sum is 50.0\n"
     ]
    }
   ],
   "source": [
    "a = float(input(\"Enter first number: \"))\n",
    "b = float(input(\"Enter second number: \"))\n",
    "print(\"Sum is\", a + b)\n"
   ]
  },
  {
   "cell_type": "markdown",
   "id": "e7b02e28-8b48-4644-8451-160e19cc5873",
   "metadata": {},
   "source": [
    "### 6. WAP to calculate area of circle."
   ]
  },
  {
   "cell_type": "code",
   "execution_count": 9,
   "id": "456667b8-b2e1-40d5-a35e-af22cc87b2e7",
   "metadata": {},
   "outputs": [
    {
     "name": "stdin",
     "output_type": "stream",
     "text": [
      "Enter radius:  30\n"
     ]
    },
    {
     "name": "stdout",
     "output_type": "stream",
     "text": [
      "Area of circle is 2827.431\n"
     ]
    }
   ],
   "source": [
    "r = float(input(\"Enter radius: \"))\n",
    "area = 3.14159 * r * r\n",
    "print(\"Area of circle is\", area)\n"
   ]
  },
  {
   "cell_type": "markdown",
   "id": "940463e7-3ef5-47eb-b206-37822161d9a8",
   "metadata": {},
   "source": [
    "### 7. Purposefully raise Indentation Error and Correct it."
   ]
  },
  {
   "cell_type": "code",
   "execution_count": 11,
   "id": "24ed9138-c07d-46c2-b05b-5caca27d2032",
   "metadata": {},
   "outputs": [
    {
     "ename": "IndentationError",
     "evalue": "expected an indented block after 'if' statement on line 3 (2560066389.py, line 4)",
     "output_type": "error",
     "traceback": [
      "\u001b[1;36m  Cell \u001b[1;32mIn[11], line 4\u001b[1;36m\u001b[0m\n\u001b[1;33m    print(a)\u001b[0m\n\u001b[1;37m    ^\u001b[0m\n\u001b[1;31mIndentationError\u001b[0m\u001b[1;31m:\u001b[0m expected an indented block after 'if' statement on line 3\n"
     ]
    }
   ],
   "source": [
    "a,b=10,20\n",
    "#error\n",
    "if a > b:\n",
    "print(a)\n",
    "\n",
    "#corrected\n",
    "if a>b:\n",
    "    print(\"a is greater\")"
   ]
  },
  {
   "cell_type": "markdown",
   "id": "2824cbbc-1ba4-4956-bbea-6457a58e97cf",
   "metadata": {},
   "source": [
    "### 8. WAP to calculate simple interest"
   ]
  },
  {
   "cell_type": "code",
   "execution_count": 12,
   "id": "38388940-a742-4cd0-8d6e-67d31838cd4a",
   "metadata": {},
   "outputs": [
    {
     "name": "stdin",
     "output_type": "stream",
     "text": [
      "Enter principal:  20000\n",
      "Enter rate:  2\n",
      "Enter time:  3\n"
     ]
    },
    {
     "name": "stdout",
     "output_type": "stream",
     "text": [
      "Simple Interest is 1200.0\n"
     ]
    }
   ],
   "source": [
    "p = float(input(\"Enter principal: \"))\n",
    "r = float(input(\"Enter rate: \"))\n",
    "t = float(input(\"Enter time: \"))\n",
    "si = (p * r * t) / 100\n",
    "print(\"Simple Interest is\", si)\n"
   ]
  },
  {
   "cell_type": "markdown",
   "id": "8bda793e-351e-4a96-96c8-09221c5f93b3",
   "metadata": {},
   "source": [
    "### 9. WAP Calculate Area and Circumference of Circle."
   ]
  },
  {
   "cell_type": "code",
   "execution_count": 13,
   "id": "cbebb28a-b4dc-44eb-8b7a-7e7f61e3ac51",
   "metadata": {},
   "outputs": [
    {
     "name": "stdin",
     "output_type": "stream",
     "text": [
      "Enter radius:  30\n"
     ]
    },
    {
     "name": "stdout",
     "output_type": "stream",
     "text": [
      "Area is 2827.431\n",
      "Circumference is 188.4954\n"
     ]
    }
   ],
   "source": [
    "r = float(input(\"Enter radius: \"))\n",
    "area = 3.14159 * r * r\n",
    "circumference = 2 * 3.14159 * r\n",
    "print(\"Area is\", area)\n",
    "print(\"Circumference is\", circumference)\n"
   ]
  },
  {
   "cell_type": "markdown",
   "id": "dd955868-cc6a-406d-b1d1-3b3db3ffd698",
   "metadata": {},
   "source": [
    "### 10. WAP to print Multiplication table of given number."
   ]
  },
  {
   "cell_type": "code",
   "execution_count": 14,
   "id": "21b976b9-dd33-4ccd-8fcd-6983332a59b2",
   "metadata": {},
   "outputs": [
    {
     "name": "stdin",
     "output_type": "stream",
     "text": [
      "Enter a number:  12\n"
     ]
    },
    {
     "name": "stdout",
     "output_type": "stream",
     "text": [
      "12 * 1 = 12\n",
      "12 * 2 = 24\n",
      "12 * 3 = 36\n",
      "12 * 4 = 48\n",
      "12 * 5 = 60\n",
      "12 * 6 = 72\n",
      "12 * 7 = 84\n",
      "12 * 8 = 96\n",
      "12 * 9 = 108\n",
      "12 * 10 = 120\n"
     ]
    }
   ],
   "source": [
    "n = int(input(\"Enter a number: \"))\n",
    "print(n, \"* 1 =\", n * 1)\n",
    "print(n, \"* 2 =\", n * 2)\n",
    "print(n, \"* 3 =\", n * 3)\n",
    "print(n, \"* 4 =\", n * 4)\n",
    "print(n, \"* 5 =\", n * 5)\n",
    "print(n, \"* 6 =\", n * 6)\n",
    "print(n, \"* 7 =\", n * 7)\n",
    "print(n, \"* 8 =\", n * 8)\n",
    "print(n, \"* 9 =\", n * 9)\n",
    "print(n, \"* 10 =\", n * 10)\n"
   ]
  },
  {
   "cell_type": "markdown",
   "id": "3c06dae2-6e66-4de2-b815-e79f794373a7",
   "metadata": {},
   "source": [
    "### 11. WAP to calculate Area of Triangle. (hint: a = h*b*0.5)"
   ]
  },
  {
   "cell_type": "code",
   "execution_count": 15,
   "id": "f7ad1959-7133-4fb5-89c1-1193065fc91c",
   "metadata": {},
   "outputs": [
    {
     "name": "stdin",
     "output_type": "stream",
     "text": [
      "Enter base:  12\n",
      "Enter height:  34\n"
     ]
    },
    {
     "name": "stdout",
     "output_type": "stream",
     "text": [
      "Area of triangle is 204.0\n"
     ]
    }
   ],
   "source": [
    "b = float(input(\"Enter base: \"))\n",
    "h = float(input(\"Enter height: \"))\n",
    "area = 0.5 * b * h\n",
    "print(\"Area of triangle is\", area)\n"
   ]
  },
  {
   "cell_type": "markdown",
   "id": "4b16662b-51d6-41fb-bbfb-414610a92d3a",
   "metadata": {},
   "source": [
    "### 12. WAP to convert Degree to Fahrenheit and vice versa."
   ]
  },
  {
   "cell_type": "code",
   "execution_count": 16,
   "id": "219f1289-6d8a-4d90-851d-e4d1626c6d26",
   "metadata": {},
   "outputs": [
    {
     "name": "stdin",
     "output_type": "stream",
     "text": [
      "Enter temperature in Celsius:  34\n"
     ]
    },
    {
     "name": "stdout",
     "output_type": "stream",
     "text": [
      "Temperature in Fahrenheit is 93.2\n"
     ]
    },
    {
     "name": "stdin",
     "output_type": "stream",
     "text": [
      "Enter temperature in Fahrenheit:  89\n"
     ]
    },
    {
     "name": "stdout",
     "output_type": "stream",
     "text": [
      "Temperature in Celsius is 31.666666666666668\n"
     ]
    }
   ],
   "source": [
    "c = float(input(\"Enter temperature in Celsius: \"))\n",
    "f = (c * 9/5) + 32\n",
    "print(\"Temperature in Fahrenheit is\", f)\n",
    "\n",
    "f = float(input(\"Enter temperature in Fahrenheit: \"))\n",
    "c = (f - 32) * 5/9\n",
    "print(\"Temperature in Celsius is\", c)"
   ]
  },
  {
   "cell_type": "markdown",
   "id": "96d16b45-cbc1-4bf7-868d-da2ba386826d",
   "metadata": {},
   "source": [
    "### 13.WAP to calculate total marks and Percentage."
   ]
  },
  {
   "cell_type": "code",
   "execution_count": 17,
   "id": "6bd38c09-3365-4624-9da2-91721573a07d",
   "metadata": {},
   "outputs": [
    {
     "name": "stdin",
     "output_type": "stream",
     "text": [
      "Enter marks for subject 1:  77\n",
      "Enter marks for subject 2:  88\n",
      "Enter marks for subject 3:  66\n",
      "Enter marks for subject 4:  88\n",
      "Enter marks for subject 5:  77\n"
     ]
    },
    {
     "name": "stdout",
     "output_type": "stream",
     "text": [
      "Total Marks = 396.0\n",
      "Percentage = 79.2\n"
     ]
    }
   ],
   "source": [
    "m1 = float(input(\"Enter marks for subject 1: \"))\n",
    "m2 = float(input(\"Enter marks for subject 2: \"))\n",
    "m3 = float(input(\"Enter marks for subject 3: \"))\n",
    "m4 = float(input(\"Enter marks for subject 4: \"))\n",
    "m5 = float(input(\"Enter marks for subject 5: \"))\n",
    "total = m1 + m2 + m3 + m4 + m5\n",
    "percentage = (total / 500) * 100\n",
    "print(\"Total Marks =\", total)\n",
    "print(\"Percentage =\", percentage)\n"
   ]
  }
 ],
 "metadata": {
  "kernelspec": {
   "display_name": "Python 3 (ipykernel)",
   "language": "python",
   "name": "python3"
  },
  "language_info": {
   "codemirror_mode": {
    "name": "ipython",
    "version": 3
   },
   "file_extension": ".py",
   "mimetype": "text/x-python",
   "name": "python",
   "nbconvert_exporter": "python",
   "pygments_lexer": "ipython3",
   "version": "3.12.7"
  }
 },
 "nbformat": 4,
 "nbformat_minor": 5
}
